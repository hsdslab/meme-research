{
 "cells": [
  {
   "cell_type": "code",
   "execution_count": 1,
   "metadata": {},
   "outputs": [
    {
     "name": "stdout",
     "output_type": "stream",
     "text": [
      "d:\\Murgi\\code\\memes2024\\meme-research-2024\n"
     ]
    },
    {
     "name": "stderr",
     "output_type": "stream",
     "text": [
      "d:\\Murgi\\code\\memes2024\\meme-research-2024\\phash\\lib\\site-packages\\IPython\\core\\magics\\osm.py:417: UserWarning: using dhist requires you to install the `pickleshare` library.\n",
      "  self.shell.db['dhist'] = compress_dhist(dhist)[-100:]\n"
     ]
    }
   ],
   "source": [
    "%pwd\n",
    "%cd d:\\\\Murgi\\\\code\\\\memes2024\\\\meme-research-2024"
   ]
  },
  {
   "cell_type": "code",
   "execution_count": 2,
   "metadata": {},
   "outputs": [],
   "source": [
    "import pandas as pd\n",
    "import numpy as np\n",
    "import pickle\n",
    "import os\n",
    "from tqdm.notebook import tqdm"
   ]
  },
  {
   "cell_type": "code",
   "execution_count": 3,
   "metadata": {},
   "outputs": [
    {
     "data": {
      "text/html": [
       "<div>\n",
       "<style scoped>\n",
       "    .dataframe tbody tr th:only-of-type {\n",
       "        vertical-align: middle;\n",
       "    }\n",
       "\n",
       "    .dataframe tbody tr th {\n",
       "        vertical-align: top;\n",
       "    }\n",
       "\n",
       "    .dataframe thead th {\n",
       "        text-align: right;\n",
       "    }\n",
       "</style>\n",
       "<table border=\"1\" class=\"dataframe\">\n",
       "  <thead>\n",
       "    <tr style=\"text-align: right;\">\n",
       "      <th></th>\n",
       "      <th>id</th>\n",
       "      <th>template_name</th>\n",
       "      <th>path</th>\n",
       "      <th>phash</th>\n",
       "    </tr>\n",
       "  </thead>\n",
       "  <tbody>\n",
       "    <tr>\n",
       "      <th>0</th>\n",
       "      <td>0-days-without-lenny-simpsons</td>\n",
       "      <td>0-days-without-lenny-simpsons</td>\n",
       "      <td>D:/Memes2024/0-days-without-Lenny-Simpsons/0-d...</td>\n",
       "      <td>0fe9b236e884fc38</td>\n",
       "    </tr>\n",
       "    <tr>\n",
       "      <th>1</th>\n",
       "      <td>0-days-without-Lenny-Simpsons_23</td>\n",
       "      <td>0-days-without-lenny-simpsons</td>\n",
       "      <td>D:/Memes2024/0-days-without-Lenny-Simpsons/0-d...</td>\n",
       "      <td>07e5ba2ee806fe30</td>\n",
       "    </tr>\n",
       "    <tr>\n",
       "      <th>2</th>\n",
       "      <td>0-days-without-Lenny-Simpsons_1</td>\n",
       "      <td>0-days-without-lenny-simpsons</td>\n",
       "      <td>D:/Memes2024/0-days-without-Lenny-Simpsons/0-d...</td>\n",
       "      <td>1fed3226e804fe38</td>\n",
       "    </tr>\n",
       "    <tr>\n",
       "      <th>3</th>\n",
       "      <td>0-days-without-Lenny-Simpsons_24</td>\n",
       "      <td>0-days-without-lenny-simpsons</td>\n",
       "      <td>D:/Memes2024/0-days-without-Lenny-Simpsons/0-d...</td>\n",
       "      <td>07e1b83ee886fa38</td>\n",
       "    </tr>\n",
       "    <tr>\n",
       "      <th>4</th>\n",
       "      <td>0-days-without-Lenny-Simpsons_10</td>\n",
       "      <td>0-days-without-lenny-simpsons</td>\n",
       "      <td>D:/Memes2024/0-days-without-Lenny-Simpsons/0-d...</td>\n",
       "      <td>17e5b22ee806fe30</td>\n",
       "    </tr>\n",
       "    <tr>\n",
       "      <th>...</th>\n",
       "      <td>...</td>\n",
       "      <td>...</td>\n",
       "      <td>...</td>\n",
       "      <td>...</td>\n",
       "    </tr>\n",
       "    <tr>\n",
       "      <th>124196</th>\n",
       "      <td>skeleton-computer-84</td>\n",
       "      <td>skeleton-computer</td>\n",
       "      <td>D:/Memes2024/Skeleton-Computer/skeleton-comput...</td>\n",
       "      <td>e1e68b1929253d3d</td>\n",
       "    </tr>\n",
       "    <tr>\n",
       "      <th>124197</th>\n",
       "      <td>nick-young-178</td>\n",
       "      <td>nick-young</td>\n",
       "      <td>D:/Memes2024/Nick-Young/nick-young-178.jpg</td>\n",
       "      <td>4bd5913e14da4e55</td>\n",
       "    </tr>\n",
       "    <tr>\n",
       "      <th>124198</th>\n",
       "      <td>success-kid-original-196</td>\n",
       "      <td>success-kid-original</td>\n",
       "      <td>D:/Memes2024/Success-Kid-Original/success-kid-...</td>\n",
       "      <td>1d1d301f32c3f2e3</td>\n",
       "    </tr>\n",
       "    <tr>\n",
       "      <th>124199</th>\n",
       "      <td>Wrong-Neighboorhood-Cats_23</td>\n",
       "      <td>wrong-neighboorhood-cats</td>\n",
       "      <td>D:/Memes2024/Wrong-Neighboorhood-Cats/Wrong-Ne...</td>\n",
       "      <td>a950535053abb3bb</td>\n",
       "    </tr>\n",
       "    <tr>\n",
       "      <th>124200</th>\n",
       "      <td>Tuna-the-dog-Phteven_24</td>\n",
       "      <td>tuna-the-dog-phteven</td>\n",
       "      <td>D:/Memes2024/Tuna-the-dog-Phteven/Tuna-the-dog...</td>\n",
       "      <td>4f420398f03f7c7a</td>\n",
       "    </tr>\n",
       "  </tbody>\n",
       "</table>\n",
       "<p>124201 rows × 4 columns</p>\n",
       "</div>"
      ],
      "text/plain": [
       "                                      id                  template_name  \\\n",
       "0          0-days-without-lenny-simpsons  0-days-without-lenny-simpsons   \n",
       "1       0-days-without-Lenny-Simpsons_23  0-days-without-lenny-simpsons   \n",
       "2        0-days-without-Lenny-Simpsons_1  0-days-without-lenny-simpsons   \n",
       "3       0-days-without-Lenny-Simpsons_24  0-days-without-lenny-simpsons   \n",
       "4       0-days-without-Lenny-Simpsons_10  0-days-without-lenny-simpsons   \n",
       "...                                  ...                            ...   \n",
       "124196              skeleton-computer-84              skeleton-computer   \n",
       "124197                    nick-young-178                     nick-young   \n",
       "124198          success-kid-original-196           success-kid-original   \n",
       "124199       Wrong-Neighboorhood-Cats_23       wrong-neighboorhood-cats   \n",
       "124200           Tuna-the-dog-Phteven_24           tuna-the-dog-phteven   \n",
       "\n",
       "                                                     path             phash  \n",
       "0       D:/Memes2024/0-days-without-Lenny-Simpsons/0-d...  0fe9b236e884fc38  \n",
       "1       D:/Memes2024/0-days-without-Lenny-Simpsons/0-d...  07e5ba2ee806fe30  \n",
       "2       D:/Memes2024/0-days-without-Lenny-Simpsons/0-d...  1fed3226e804fe38  \n",
       "3       D:/Memes2024/0-days-without-Lenny-Simpsons/0-d...  07e1b83ee886fa38  \n",
       "4       D:/Memes2024/0-days-without-Lenny-Simpsons/0-d...  17e5b22ee806fe30  \n",
       "...                                                   ...               ...  \n",
       "124196  D:/Memes2024/Skeleton-Computer/skeleton-comput...  e1e68b1929253d3d  \n",
       "124197         D:/Memes2024/Nick-Young/nick-young-178.jpg  4bd5913e14da4e55  \n",
       "124198  D:/Memes2024/Success-Kid-Original/success-kid-...  1d1d301f32c3f2e3  \n",
       "124199  D:/Memes2024/Wrong-Neighboorhood-Cats/Wrong-Ne...  a950535053abb3bb  \n",
       "124200  D:/Memes2024/Tuna-the-dog-Phteven/Tuna-the-dog...  4f420398f03f7c7a  \n",
       "\n",
       "[124201 rows x 4 columns]"
      ]
     },
     "execution_count": 3,
     "metadata": {},
     "output_type": "execute_result"
    }
   ],
   "source": [
    "meme_df = pd.read_parquet(\"D:\\Murgi\\code\\memes2024\\meme-research-2024\\data\\meme_entries.parquet\")\n",
    "meme_df"
   ]
  },
  {
   "cell_type": "code",
   "execution_count": 4,
   "metadata": {},
   "outputs": [
    {
     "data": {
      "text/plain": [
       "array(['0fe9b236e884fc38', '07e5ba2ee806fe30', '1fed3226e804fe38', ...,\n",
       "       '1d1d301f32c3f2e3', 'a950535053abb3bb', '4f420398f03f7c7a'],\n",
       "      dtype=object)"
      ]
     },
     "execution_count": 4,
     "metadata": {},
     "output_type": "execute_result"
    }
   ],
   "source": [
    "phashes = meme_df[\"phash\"].values\n",
    "phashes"
   ]
  },
  {
   "cell_type": "code",
   "execution_count": 5,
   "metadata": {},
   "outputs": [
    {
     "data": {
      "application/vnd.jupyter.widget-view+json": {
       "model_id": "540333055abb4c678e267f249d2f73d7",
       "version_major": 2,
       "version_minor": 0
      },
      "text/plain": [
       "  0%|          | 0/124201 [00:00<?, ?it/s]"
      ]
     },
     "metadata": {},
     "output_type": "display_data"
    }
   ],
   "source": [
    "def hex_to_hash(hexstr, hash_size=8):\n",
    "\n",
    "    l = []\n",
    "    count = hash_size * (hash_size // 4)\n",
    "    if len(hexstr) != count:\n",
    "        emsg = 'Expected hex string size of {}.'\n",
    "        raise ValueError(emsg.format(count))\n",
    "    for i in range(count // 2):\n",
    "        h = hexstr[i*2:i*2+2]\n",
    "        v = int(\"0x\" + h, 16)\n",
    "        l.append([v & 2**i > 0 for i in range(8)])\n",
    "    return np.array(l).flatten()#.astype(int)\n",
    "    \n",
    "def precompute_vectors(hashes, phases_path):\n",
    "    pickle_file = phases_path + '.pickle'\n",
    "    if os.path.isfile(pickle_file): \n",
    "        with open(pickle_file, 'rb') as fo:\n",
    "            hashes = pickle.load(fo)\n",
    "        print('[w] fetch precomputed vectors from ', pickle_file, 'new processed', len(hashes))\n",
    "        return np.array(hashes)\n",
    "    else:\n",
    "        # hashes = np.array(list(hashes.values()))\n",
    "        hashes2 = []\n",
    "        for hex_hash in tqdm(hashes, total=len(hashes)):\n",
    "            try:\n",
    "                hashes2.append(hex_to_hash(hex_hash))\n",
    "            except Exception as e:\n",
    "                print(hex_hash)\n",
    "                print(str(e))\n",
    "        with open(pickle_file, 'wb') as fo:\n",
    "            pickle.dump(hashes2, fo)\n",
    "    return np.array(hashes2)\n",
    "\n",
    "phash_vectors = precompute_vectors(phashes, 'all_imgflip_phash_vectors')"
   ]
  },
  {
   "cell_type": "code",
   "execution_count": 11,
   "metadata": {},
   "outputs": [
    {
     "data": {
      "text/plain": [
       "((124201, 64), 124201)"
      ]
     },
     "execution_count": 11,
     "metadata": {},
     "output_type": "execute_result"
    }
   ],
   "source": [
    "from sklearn.preprocessing import LabelEncoder\n",
    "\n",
    "X = phash_vectors\n",
    "le = LabelEncoder()\n",
    "le.fit(meme_df['template_name'])\n",
    "meme_df['template_id'] = le.transform(meme_df['template_name'])\n",
    "y = meme_df['template_id'].tolist()\n",
    "X.shape, len(y)\n"
   ]
  },
  {
   "cell_type": "code",
   "execution_count": 12,
   "metadata": {},
   "outputs": [],
   "source": [
    "import optuna\n",
    "from optuna.samplers import TPESampler\n",
    "from sklearn.neighbors import RadiusNeighborsClassifier\n",
    "from sklearn.pipeline import make_pipeline\n",
    "from sklearn.model_selection import cross_validate\n",
    "from sklearn.model_selection import StratifiedKFold\n",
    "# Which hyperparameters to tune: https://machinelearningmastery.com/hyperparameters-for-classification-machine-learning-algorithms/\n"
   ]
  },
  {
   "cell_type": "code",
   "execution_count": 13,
   "metadata": {},
   "outputs": [],
   "source": [
    "import constants\n",
    "import mlflow\n",
    "import constants\n",
    "\n",
    "mlflow.set_tracking_uri('https://dagshub.com/levente-murgas/meme-research-2024.mlflow')\n",
    "# os.environ['MLFLOW_TRACKING_URI']=f\"'https://dagshub.com/levente-murgas/meme-research-2024.mlflow'\"\n",
    "\n",
    "# # Recommended to define as environment variables\n",
    "os.environ['MLFLOW_TRACKING_USERNAME'] = constants.MLFLOW_TRACKING_USERNAME\n",
    "os.environ['MLFLOW_TRACKING_PASSWORD'] = constants.MLFLOW_TRACKING_PASSWORD"
   ]
  },
  {
   "cell_type": "code",
   "execution_count": 9,
   "metadata": {},
   "outputs": [
    {
     "name": "stdout",
     "output_type": "stream",
     "text": [
      "7\n"
     ]
    }
   ],
   "source": [
    "def get_experiment_id(name):\n",
    "    exp = mlflow.get_experiment_by_name(name)\n",
    "    if exp is None:\n",
    "      exp_id = mlflow.create_experiment(name)\n",
    "      return exp_id\n",
    "    return exp.experiment_id\n",
    "\n",
    "exp_id = get_experiment_id(\"rnn_cross_val\")\n",
    "print(exp_id)"
   ]
  },
  {
   "cell_type": "code",
   "execution_count": 23,
   "metadata": {},
   "outputs": [
    {
     "name": "stderr",
     "output_type": "stream",
     "text": [
      "[I 2024-04-19 14:19:37,189] A new study created in memory with name: no-name-1d815d3a-ac42-47cb-8048-707062511340\n",
      "d:\\Murgi\\code\\memes2024\\meme-research-2024\\phash\\lib\\site-packages\\sklearn\\neighbors\\_classification.py:768: UserWarning: Outlier label -1 is not in training classes. All class probabilities of outliers will be assigned with 0.\n",
      "  warnings.warn(\n",
      "d:\\Murgi\\code\\memes2024\\meme-research-2024\\phash\\lib\\site-packages\\sklearn\\neighbors\\_classification.py:768: UserWarning: Outlier label -1 is not in training classes. All class probabilities of outliers will be assigned with 0.\n",
      "  warnings.warn(\n",
      "d:\\Murgi\\code\\memes2024\\meme-research-2024\\phash\\lib\\site-packages\\sklearn\\neighbors\\_classification.py:768: UserWarning: Outlier label -1 is not in training classes. All class probabilities of outliers will be assigned with 0.\n",
      "  warnings.warn(\n",
      "d:\\Murgi\\code\\memes2024\\meme-research-2024\\phash\\lib\\site-packages\\sklearn\\neighbors\\_classification.py:768: UserWarning: Outlier label -1 is not in training classes. All class probabilities of outliers will be assigned with 0.\n",
      "  warnings.warn(\n",
      "d:\\Murgi\\code\\memes2024\\meme-research-2024\\phash\\lib\\site-packages\\sklearn\\neighbors\\_classification.py:768: UserWarning: Outlier label -1 is not in training classes. All class probabilities of outliers will be assigned with 0.\n",
      "  warnings.warn(\n",
      "Successfully registered model 'rnn'.\n",
      "2024/04/19 14:35:52 INFO mlflow.store.model_registry.abstract_store: Waiting up to 300 seconds for model version to finish creation. Model name: rnn, version 1\n",
      "Created version '1' of model 'rnn'.\n",
      "Registered model 'rnn' already exists. Creating a new version of this model...\n",
      "2024/04/19 14:36:04 INFO mlflow.store.model_registry.abstract_store: Waiting up to 300 seconds for model version to finish creation. Model name: rnn, version 2\n",
      "Created version '2' of model 'rnn'.\n",
      "Registered model 'rnn' already exists. Creating a new version of this model...\n",
      "2024/04/19 14:36:16 INFO mlflow.store.model_registry.abstract_store: Waiting up to 300 seconds for model version to finish creation. Model name: rnn, version 3\n",
      "Created version '3' of model 'rnn'.\n",
      "Registered model 'rnn' already exists. Creating a new version of this model...\n",
      "2024/04/19 14:36:29 INFO mlflow.store.model_registry.abstract_store: Waiting up to 300 seconds for model version to finish creation. Model name: rnn, version 4\n",
      "Created version '4' of model 'rnn'.\n",
      "Registered model 'rnn' already exists. Creating a new version of this model...\n",
      "2024/04/19 14:36:42 INFO mlflow.store.model_registry.abstract_store: Waiting up to 300 seconds for model version to finish creation. Model name: rnn, version 5\n",
      "Created version '5' of model 'rnn'.\n",
      "[I 2024-04-19 14:36:43,031] Trial 0 finished with value: 0.9103371232976688 and parameters: {'radius': 16, 'weights': 'uniform'}. Best is trial 0 with value: 0.9103371232976688.\n",
      "d:\\Murgi\\code\\memes2024\\meme-research-2024\\phash\\lib\\site-packages\\sklearn\\neighbors\\_classification.py:768: UserWarning: Outlier label -1 is not in training classes. All class probabilities of outliers will be assigned with 0.\n",
      "  warnings.warn(\n",
      "Registered model 'rnn' already exists. Creating a new version of this model...\n",
      "2024/04/19 14:53:43 INFO mlflow.store.model_registry.abstract_store: Waiting up to 300 seconds for model version to finish creation. Model name: rnn, version 6\n",
      "Created version '6' of model 'rnn'.\n",
      "Registered model 'rnn' already exists. Creating a new version of this model...\n",
      "2024/04/19 14:53:57 INFO mlflow.store.model_registry.abstract_store: Waiting up to 300 seconds for model version to finish creation. Model name: rnn, version 7\n",
      "Created version '7' of model 'rnn'.\n",
      "Registered model 'rnn' already exists. Creating a new version of this model...\n",
      "2024/04/19 14:54:10 INFO mlflow.store.model_registry.abstract_store: Waiting up to 300 seconds for model version to finish creation. Model name: rnn, version 8\n",
      "Created version '8' of model 'rnn'.\n",
      "Registered model 'rnn' already exists. Creating a new version of this model...\n",
      "2024/04/19 14:54:22 INFO mlflow.store.model_registry.abstract_store: Waiting up to 300 seconds for model version to finish creation. Model name: rnn, version 9\n",
      "Created version '9' of model 'rnn'.\n",
      "Registered model 'rnn' already exists. Creating a new version of this model...\n",
      "2024/04/19 14:54:33 INFO mlflow.store.model_registry.abstract_store: Waiting up to 300 seconds for model version to finish creation. Model name: rnn, version 10\n",
      "Created version '10' of model 'rnn'.\n",
      "[I 2024-04-19 14:54:34,004] Trial 1 finished with value: 0.34163794516006557 and parameters: {'radius': 22, 'weights': 'uniform'}. Best is trial 0 with value: 0.9103371232976688.\n",
      "d:\\Murgi\\code\\memes2024\\meme-research-2024\\phash\\lib\\site-packages\\sklearn\\neighbors\\_classification.py:768: UserWarning: Outlier label -1 is not in training classes. All class probabilities of outliers will be assigned with 0.\n",
      "  warnings.warn(\n",
      "d:\\Murgi\\code\\memes2024\\meme-research-2024\\phash\\lib\\site-packages\\sklearn\\neighbors\\_classification.py:768: UserWarning: Outlier label -1 is not in training classes. All class probabilities of outliers will be assigned with 0.\n",
      "  warnings.warn(\n",
      "d:\\Murgi\\code\\memes2024\\meme-research-2024\\phash\\lib\\site-packages\\sklearn\\neighbors\\_classification.py:768: UserWarning: Outlier label -1 is not in training classes. All class probabilities of outliers will be assigned with 0.\n",
      "  warnings.warn(\n",
      "d:\\Murgi\\code\\memes2024\\meme-research-2024\\phash\\lib\\site-packages\\sklearn\\neighbors\\_classification.py:768: UserWarning: Outlier label -1 is not in training classes. All class probabilities of outliers will be assigned with 0.\n",
      "  warnings.warn(\n",
      "d:\\Murgi\\code\\memes2024\\meme-research-2024\\phash\\lib\\site-packages\\sklearn\\neighbors\\_classification.py:768: UserWarning: Outlier label -1 is not in training classes. All class probabilities of outliers will be assigned with 0.\n",
      "  warnings.warn(\n",
      "Registered model 'rnn' already exists. Creating a new version of this model...\n",
      "2024/04/19 15:11:38 INFO mlflow.store.model_registry.abstract_store: Waiting up to 300 seconds for model version to finish creation. Model name: rnn, version 11\n",
      "Created version '11' of model 'rnn'.\n",
      "Registered model 'rnn' already exists. Creating a new version of this model...\n",
      "2024/04/19 15:11:51 INFO mlflow.store.model_registry.abstract_store: Waiting up to 300 seconds for model version to finish creation. Model name: rnn, version 12\n",
      "Created version '12' of model 'rnn'.\n",
      "Registered model 'rnn' already exists. Creating a new version of this model...\n",
      "2024/04/19 15:12:02 INFO mlflow.store.model_registry.abstract_store: Waiting up to 300 seconds for model version to finish creation. Model name: rnn, version 13\n",
      "Created version '13' of model 'rnn'.\n",
      "Registered model 'rnn' already exists. Creating a new version of this model...\n",
      "2024/04/19 15:12:15 INFO mlflow.store.model_registry.abstract_store: Waiting up to 300 seconds for model version to finish creation. Model name: rnn, version 14\n",
      "Created version '14' of model 'rnn'.\n",
      "Registered model 'rnn' already exists. Creating a new version of this model...\n",
      "2024/04/19 15:12:27 INFO mlflow.store.model_registry.abstract_store: Waiting up to 300 seconds for model version to finish creation. Model name: rnn, version 15\n",
      "Created version '15' of model 'rnn'.\n",
      "[I 2024-04-19 15:12:27,304] Trial 2 finished with value: 0.8621126606018568 and parameters: {'radius': 7, 'weights': 'uniform'}. Best is trial 0 with value: 0.9103371232976688.\n",
      "d:\\Murgi\\code\\memes2024\\meme-research-2024\\phash\\lib\\site-packages\\sklearn\\neighbors\\_classification.py:768: UserWarning: Outlier label -1 is not in training classes. All class probabilities of outliers will be assigned with 0.\n",
      "  warnings.warn(\n",
      "Registered model 'rnn' already exists. Creating a new version of this model...\n",
      "2024/04/19 15:30:41 INFO mlflow.store.model_registry.abstract_store: Waiting up to 300 seconds for model version to finish creation. Model name: rnn, version 16\n",
      "Created version '16' of model 'rnn'.\n",
      "Registered model 'rnn' already exists. Creating a new version of this model...\n",
      "2024/04/19 15:30:54 INFO mlflow.store.model_registry.abstract_store: Waiting up to 300 seconds for model version to finish creation. Model name: rnn, version 17\n",
      "Created version '17' of model 'rnn'.\n",
      "Registered model 'rnn' already exists. Creating a new version of this model...\n",
      "2024/04/19 15:31:07 INFO mlflow.store.model_registry.abstract_store: Waiting up to 300 seconds for model version to finish creation. Model name: rnn, version 18\n",
      "Created version '18' of model 'rnn'.\n",
      "Registered model 'rnn' already exists. Creating a new version of this model...\n",
      "2024/04/19 15:31:19 INFO mlflow.store.model_registry.abstract_store: Waiting up to 300 seconds for model version to finish creation. Model name: rnn, version 19\n",
      "Created version '19' of model 'rnn'.\n",
      "Registered model 'rnn' already exists. Creating a new version of this model...\n",
      "2024/04/19 15:31:30 INFO mlflow.store.model_registry.abstract_store: Waiting up to 300 seconds for model version to finish creation. Model name: rnn, version 20\n",
      "Created version '20' of model 'rnn'.\n",
      "[I 2024-04-19 15:31:31,167] Trial 3 finished with value: 0.6792396024220816 and parameters: {'radius': 25, 'weights': 'distance'}. Best is trial 0 with value: 0.9103371232976688.\n",
      "Registered model 'rnn' already exists. Creating a new version of this model...\n",
      "2024/04/19 15:51:35 INFO mlflow.store.model_registry.abstract_store: Waiting up to 300 seconds for model version to finish creation. Model name: rnn, version 21\n",
      "Created version '21' of model 'rnn'.\n",
      "Registered model 'rnn' already exists. Creating a new version of this model...\n",
      "2024/04/19 15:51:47 INFO mlflow.store.model_registry.abstract_store: Waiting up to 300 seconds for model version to finish creation. Model name: rnn, version 22\n",
      "Created version '22' of model 'rnn'.\n",
      "Registered model 'rnn' already exists. Creating a new version of this model...\n",
      "2024/04/19 15:51:59 INFO mlflow.store.model_registry.abstract_store: Waiting up to 300 seconds for model version to finish creation. Model name: rnn, version 23\n",
      "Created version '23' of model 'rnn'.\n",
      "Registered model 'rnn' already exists. Creating a new version of this model...\n",
      "2024/04/19 15:52:10 INFO mlflow.store.model_registry.abstract_store: Waiting up to 300 seconds for model version to finish creation. Model name: rnn, version 24\n",
      "Created version '24' of model 'rnn'.\n",
      "Registered model 'rnn' already exists. Creating a new version of this model...\n",
      "2024/04/19 15:52:23 INFO mlflow.store.model_registry.abstract_store: Waiting up to 300 seconds for model version to finish creation. Model name: rnn, version 25\n",
      "Created version '25' of model 'rnn'.\n",
      "[I 2024-04-19 15:52:23,789] Trial 4 finished with value: 0.009652334736527735 and parameters: {'radius': 28, 'weights': 'uniform'}. Best is trial 0 with value: 0.9103371232976688.\n",
      "d:\\Murgi\\code\\memes2024\\meme-research-2024\\phash\\lib\\site-packages\\sklearn\\neighbors\\_classification.py:768: UserWarning: Outlier label -1 is not in training classes. All class probabilities of outliers will be assigned with 0.\n",
      "  warnings.warn(\n",
      "d:\\Murgi\\code\\memes2024\\meme-research-2024\\phash\\lib\\site-packages\\sklearn\\neighbors\\_classification.py:768: UserWarning: Outlier label -1 is not in training classes. All class probabilities of outliers will be assigned with 0.\n",
      "  warnings.warn(\n",
      "d:\\Murgi\\code\\memes2024\\meme-research-2024\\phash\\lib\\site-packages\\sklearn\\neighbors\\_classification.py:768: UserWarning: Outlier label -1 is not in training classes. All class probabilities of outliers will be assigned with 0.\n",
      "  warnings.warn(\n",
      "d:\\Murgi\\code\\memes2024\\meme-research-2024\\phash\\lib\\site-packages\\sklearn\\neighbors\\_classification.py:768: UserWarning: Outlier label -1 is not in training classes. All class probabilities of outliers will be assigned with 0.\n",
      "  warnings.warn(\n",
      "d:\\Murgi\\code\\memes2024\\meme-research-2024\\phash\\lib\\site-packages\\sklearn\\neighbors\\_classification.py:768: UserWarning: Outlier label -1 is not in training classes. All class probabilities of outliers will be assigned with 0.\n",
      "  warnings.warn(\n",
      "Registered model 'rnn' already exists. Creating a new version of this model...\n",
      "2024/04/19 16:09:55 INFO mlflow.store.model_registry.abstract_store: Waiting up to 300 seconds for model version to finish creation. Model name: rnn, version 26\n",
      "Created version '26' of model 'rnn'.\n",
      "Registered model 'rnn' already exists. Creating a new version of this model...\n",
      "2024/04/19 16:10:07 INFO mlflow.store.model_registry.abstract_store: Waiting up to 300 seconds for model version to finish creation. Model name: rnn, version 27\n",
      "Created version '27' of model 'rnn'.\n",
      "Registered model 'rnn' already exists. Creating a new version of this model...\n",
      "2024/04/19 16:10:20 INFO mlflow.store.model_registry.abstract_store: Waiting up to 300 seconds for model version to finish creation. Model name: rnn, version 28\n",
      "Created version '28' of model 'rnn'.\n",
      "Registered model 'rnn' already exists. Creating a new version of this model...\n",
      "2024/04/19 16:10:32 INFO mlflow.store.model_registry.abstract_store: Waiting up to 300 seconds for model version to finish creation. Model name: rnn, version 29\n",
      "Created version '29' of model 'rnn'.\n",
      "Registered model 'rnn' already exists. Creating a new version of this model...\n",
      "2024/04/19 16:10:43 INFO mlflow.store.model_registry.abstract_store: Waiting up to 300 seconds for model version to finish creation. Model name: rnn, version 30\n",
      "Created version '30' of model 'rnn'.\n",
      "[I 2024-04-19 16:10:43,673] Trial 5 finished with value: 0.9434861793418193 and parameters: {'radius': 10, 'weights': 'distance'}. Best is trial 5 with value: 0.9434861793418193.\n",
      "d:\\Murgi\\code\\memes2024\\meme-research-2024\\phash\\lib\\site-packages\\sklearn\\neighbors\\_classification.py:768: UserWarning: Outlier label -1 is not in training classes. All class probabilities of outliers will be assigned with 0.\n",
      "  warnings.warn(\n",
      "d:\\Murgi\\code\\memes2024\\meme-research-2024\\phash\\lib\\site-packages\\sklearn\\neighbors\\_classification.py:768: UserWarning: Outlier label -1 is not in training classes. All class probabilities of outliers will be assigned with 0.\n",
      "  warnings.warn(\n",
      "d:\\Murgi\\code\\memes2024\\meme-research-2024\\phash\\lib\\site-packages\\sklearn\\neighbors\\_classification.py:768: UserWarning: Outlier label -1 is not in training classes. All class probabilities of outliers will be assigned with 0.\n",
      "  warnings.warn(\n",
      "d:\\Murgi\\code\\memes2024\\meme-research-2024\\phash\\lib\\site-packages\\sklearn\\neighbors\\_classification.py:768: UserWarning: Outlier label -1 is not in training classes. All class probabilities of outliers will be assigned with 0.\n",
      "  warnings.warn(\n",
      "d:\\Murgi\\code\\memes2024\\meme-research-2024\\phash\\lib\\site-packages\\sklearn\\neighbors\\_classification.py:768: UserWarning: Outlier label -1 is not in training classes. All class probabilities of outliers will be assigned with 0.\n",
      "  warnings.warn(\n",
      "Registered model 'rnn' already exists. Creating a new version of this model...\n",
      "2024/04/19 16:28:15 INFO mlflow.store.model_registry.abstract_store: Waiting up to 300 seconds for model version to finish creation. Model name: rnn, version 31\n",
      "Created version '31' of model 'rnn'.\n",
      "Registered model 'rnn' already exists. Creating a new version of this model...\n",
      "2024/04/19 16:28:27 INFO mlflow.store.model_registry.abstract_store: Waiting up to 300 seconds for model version to finish creation. Model name: rnn, version 32\n",
      "Created version '32' of model 'rnn'.\n",
      "Registered model 'rnn' already exists. Creating a new version of this model...\n",
      "2024/04/19 16:28:39 INFO mlflow.store.model_registry.abstract_store: Waiting up to 300 seconds for model version to finish creation. Model name: rnn, version 33\n",
      "Created version '33' of model 'rnn'.\n",
      "Registered model 'rnn' already exists. Creating a new version of this model...\n",
      "2024/04/19 16:28:51 INFO mlflow.store.model_registry.abstract_store: Waiting up to 300 seconds for model version to finish creation. Model name: rnn, version 34\n",
      "Created version '34' of model 'rnn'.\n",
      "Registered model 'rnn' already exists. Creating a new version of this model...\n",
      "2024/04/19 16:29:02 INFO mlflow.store.model_registry.abstract_store: Waiting up to 300 seconds for model version to finish creation. Model name: rnn, version 35\n",
      "Created version '35' of model 'rnn'.\n",
      "[I 2024-04-19 16:29:02,784] Trial 6 finished with value: 0.9272956767047906 and parameters: {'radius': 17, 'weights': 'distance'}. Best is trial 5 with value: 0.9434861793418193.\n",
      "d:\\Murgi\\code\\memes2024\\meme-research-2024\\phash\\lib\\site-packages\\sklearn\\neighbors\\_classification.py:768: UserWarning: Outlier label -1 is not in training classes. All class probabilities of outliers will be assigned with 0.\n",
      "  warnings.warn(\n",
      "d:\\Murgi\\code\\memes2024\\meme-research-2024\\phash\\lib\\site-packages\\sklearn\\neighbors\\_classification.py:768: UserWarning: Outlier label -1 is not in training classes. All class probabilities of outliers will be assigned with 0.\n",
      "  warnings.warn(\n",
      "d:\\Murgi\\code\\memes2024\\meme-research-2024\\phash\\lib\\site-packages\\sklearn\\neighbors\\_classification.py:768: UserWarning: Outlier label -1 is not in training classes. All class probabilities of outliers will be assigned with 0.\n",
      "  warnings.warn(\n",
      "d:\\Murgi\\code\\memes2024\\meme-research-2024\\phash\\lib\\site-packages\\sklearn\\neighbors\\_classification.py:768: UserWarning: Outlier label -1 is not in training classes. All class probabilities of outliers will be assigned with 0.\n",
      "  warnings.warn(\n",
      "d:\\Murgi\\code\\memes2024\\meme-research-2024\\phash\\lib\\site-packages\\sklearn\\neighbors\\_classification.py:768: UserWarning: Outlier label -1 is not in training classes. All class probabilities of outliers will be assigned with 0.\n",
      "  warnings.warn(\n",
      "Registered model 'rnn' already exists. Creating a new version of this model...\n",
      "2024/04/19 16:46:19 INFO mlflow.store.model_registry.abstract_store: Waiting up to 300 seconds for model version to finish creation. Model name: rnn, version 36\n",
      "Created version '36' of model 'rnn'.\n",
      "Registered model 'rnn' already exists. Creating a new version of this model...\n",
      "2024/04/19 16:46:31 INFO mlflow.store.model_registry.abstract_store: Waiting up to 300 seconds for model version to finish creation. Model name: rnn, version 37\n",
      "Created version '37' of model 'rnn'.\n",
      "Registered model 'rnn' already exists. Creating a new version of this model...\n",
      "2024/04/19 16:46:43 INFO mlflow.store.model_registry.abstract_store: Waiting up to 300 seconds for model version to finish creation. Model name: rnn, version 38\n",
      "Created version '38' of model 'rnn'.\n",
      "Registered model 'rnn' already exists. Creating a new version of this model...\n",
      "2024/04/19 16:46:55 INFO mlflow.store.model_registry.abstract_store: Waiting up to 300 seconds for model version to finish creation. Model name: rnn, version 39\n",
      "Created version '39' of model 'rnn'.\n",
      "Registered model 'rnn' already exists. Creating a new version of this model...\n",
      "2024/04/19 16:47:06 INFO mlflow.store.model_registry.abstract_store: Waiting up to 300 seconds for model version to finish creation. Model name: rnn, version 40\n",
      "Created version '40' of model 'rnn'.\n",
      "[I 2024-04-19 16:47:07,139] Trial 7 finished with value: 0.9151485665068988 and parameters: {'radius': 9, 'weights': 'distance'}. Best is trial 5 with value: 0.9434861793418193.\n",
      "d:\\Murgi\\code\\memes2024\\meme-research-2024\\phash\\lib\\site-packages\\sklearn\\neighbors\\_classification.py:768: UserWarning: Outlier label -1 is not in training classes. All class probabilities of outliers will be assigned with 0.\n",
      "  warnings.warn(\n",
      "Registered model 'rnn' already exists. Creating a new version of this model...\n",
      "2024/04/19 17:04:14 INFO mlflow.store.model_registry.abstract_store: Waiting up to 300 seconds for model version to finish creation. Model name: rnn, version 41\n",
      "Created version '41' of model 'rnn'.\n",
      "Registered model 'rnn' already exists. Creating a new version of this model...\n",
      "2024/04/19 17:04:26 INFO mlflow.store.model_registry.abstract_store: Waiting up to 300 seconds for model version to finish creation. Model name: rnn, version 42\n",
      "Created version '42' of model 'rnn'.\n",
      "Registered model 'rnn' already exists. Creating a new version of this model...\n",
      "2024/04/19 17:04:38 INFO mlflow.store.model_registry.abstract_store: Waiting up to 300 seconds for model version to finish creation. Model name: rnn, version 43\n",
      "Created version '43' of model 'rnn'.\n",
      "Registered model 'rnn' already exists. Creating a new version of this model...\n",
      "2024/04/19 17:04:49 INFO mlflow.store.model_registry.abstract_store: Waiting up to 300 seconds for model version to finish creation. Model name: rnn, version 44\n",
      "Created version '44' of model 'rnn'.\n",
      "Registered model 'rnn' already exists. Creating a new version of this model...\n",
      "2024/04/19 17:05:02 INFO mlflow.store.model_registry.abstract_store: Waiting up to 300 seconds for model version to finish creation. Model name: rnn, version 45\n",
      "Created version '45' of model 'rnn'.\n",
      "[I 2024-04-19 17:05:02,597] Trial 8 finished with value: 0.8219118963901625 and parameters: {'radius': 18, 'weights': 'uniform'}. Best is trial 5 with value: 0.9434861793418193.\n",
      "d:\\Murgi\\code\\memes2024\\meme-research-2024\\phash\\lib\\site-packages\\sklearn\\neighbors\\_classification.py:768: UserWarning: Outlier label -1 is not in training classes. All class probabilities of outliers will be assigned with 0.\n",
      "  warnings.warn(\n",
      "Registered model 'rnn' already exists. Creating a new version of this model...\n",
      "2024/04/19 17:21:59 INFO mlflow.store.model_registry.abstract_store: Waiting up to 300 seconds for model version to finish creation. Model name: rnn, version 46\n",
      "Created version '46' of model 'rnn'.\n",
      "Registered model 'rnn' already exists. Creating a new version of this model...\n",
      "2024/04/19 17:22:11 INFO mlflow.store.model_registry.abstract_store: Waiting up to 300 seconds for model version to finish creation. Model name: rnn, version 47\n",
      "Created version '47' of model 'rnn'.\n",
      "Registered model 'rnn' already exists. Creating a new version of this model...\n",
      "2024/04/19 17:22:22 INFO mlflow.store.model_registry.abstract_store: Waiting up to 300 seconds for model version to finish creation. Model name: rnn, version 48\n",
      "Created version '48' of model 'rnn'.\n",
      "Registered model 'rnn' already exists. Creating a new version of this model...\n",
      "2024/04/19 17:22:34 INFO mlflow.store.model_registry.abstract_store: Waiting up to 300 seconds for model version to finish creation. Model name: rnn, version 49\n",
      "Created version '49' of model 'rnn'.\n",
      "Registered model 'rnn' already exists. Creating a new version of this model...\n",
      "2024/04/19 17:22:46 INFO mlflow.store.model_registry.abstract_store: Waiting up to 300 seconds for model version to finish creation. Model name: rnn, version 50\n",
      "Created version '50' of model 'rnn'.\n",
      "[I 2024-04-19 17:22:46,317] Trial 9 finished with value: 0.8219118963901625 and parameters: {'radius': 19, 'weights': 'uniform'}. Best is trial 5 with value: 0.9434861793418193.\n"
     ]
    }
   ],
   "source": [
    "from sklearn.metrics import matthews_corrcoef, make_scorer, cohen_kappa_score, f1_score\n",
    "\n",
    "def objective(trial):\n",
    "    # -- Tune estimator algorithm\n",
    "    radius = trial.suggest_int(\"radius\", 6, 32)\n",
    "    weights = trial.suggest_categorical(\"weights\", ['uniform', 'distance'])\n",
    "    rnn = RadiusNeighborsClassifier(radius=radius, weights=weights, metric='manhattan', outlier_label=-1)\n",
    "    \n",
    "    scoring = {'matthews_corrcoef': make_scorer(matthews_corrcoef),\n",
    "              'cohen_kappa_score': make_scorer(cohen_kappa_score),\n",
    "              'f1_score': make_scorer(f1_score, average='weighted')}\n",
    "    \n",
    "    # -- Make a pipeline\n",
    "    pipeline = make_pipeline(rnn)\n",
    "\n",
    "    # -- Cross-validate the features reduced by dimensionality reduction methods\n",
    "    kfold = StratifiedKFold(n_splits=5)\n",
    "    scores = cross_validate(pipeline, X, y, scoring=scoring, cv=kfold, return_estimator=True)\n",
    "\n",
    "    try:\n",
    "        with mlflow.start_run(experiment_id = exp_id):\n",
    "            for i in range(5):\n",
    "                mlflow.log_metrics({\n",
    "                    \"f1weighted\": scores['test_f1_score'][i],\n",
    "                    \"kappa\": scores['test_cohen_kappa_score'][i],\n",
    "                    \"mcc\": scores['test_matthews_corrcoef'][i]\n",
    "                }, step=i)\n",
    "                mlflow.sklearn.log_model(\n",
    "                    sk_model=scores['estimator'][i], \n",
    "                    artifact_path=f\"rnn_{i}\",\n",
    "                    registered_model_name=\"rnn\"\n",
    "                )\n",
    "    except:\n",
    "        print(\"Logging was not succesful\")\n",
    "        pass\n",
    "        \n",
    "    optimizing_scores = np.array(scores['test_f1_score'])\n",
    "    score = optimizing_scores.mean()\n",
    "    return score\n",
    "\n",
    "sampler = TPESampler(seed=42) # create a seed for the sampler for reproducibility\n",
    "study = optuna.create_study(direction=\"maximize\", sampler=sampler)\n",
    "study.optimize(objective, n_trials=10)"
   ]
  },
  {
   "cell_type": "code",
   "execution_count": 24,
   "metadata": {},
   "outputs": [
    {
     "name": "stdout",
     "output_type": "stream",
     "text": [
      "Best trial out of 10 is:\n"
     ]
    },
    {
     "data": {
      "text/plain": [
       "FrozenTrial(number=5, state=TrialState.COMPLETE, values=[0.9434861793418193], datetime_start=datetime.datetime(2024, 4, 19, 15, 52, 23, 791025), datetime_complete=datetime.datetime(2024, 4, 19, 16, 10, 43, 672731), params={'radius': 10, 'weights': 'distance'}, user_attrs={}, system_attrs={}, intermediate_values={}, distributions={'radius': IntDistribution(high=32, log=False, low=6, step=1), 'weights': CategoricalDistribution(choices=('uniform', 'distance'))}, trial_id=5, value=None)"
      ]
     },
     "execution_count": 24,
     "metadata": {},
     "output_type": "execute_result"
    }
   ],
   "source": [
    "# -- Have a look at the best trial\n",
    "print(\"Best trial out of 10 is:\")\n",
    "study.best_trial"
   ]
  },
  {
   "cell_type": "code",
   "execution_count": 25,
   "metadata": {},
   "outputs": [
    {
     "name": "stdout",
     "output_type": "stream",
     "text": [
      "Best parameters after tuning using mean accuracy:\n"
     ]
    },
    {
     "data": {
      "text/plain": [
       "{'radius': 10, 'weights': 'distance'}"
      ]
     },
     "execution_count": 25,
     "metadata": {},
     "output_type": "execute_result"
    }
   ],
   "source": [
    "# -- Have a look at the best parameters for the tuned model\n",
    "print(\"Best parameters after tuning using mean accuracy:\")\n",
    "study.best_params"
   ]
  },
  {
   "cell_type": "markdown",
   "metadata": {},
   "source": [
    "## Test with best params from grid search\n",
    "\n",
    "Best trial out of 10 is:<br><br>\n",
    "FrozenTrial(number=5, state=TrialState.COMPLETE, values=[0.9434861793418193], datetime_start=datetime.datetime(2024, 4, 19, 15, 52, 23, 791025), datetime_complete=datetime.datetime(2024, 4, 19, 16, 10, 43, 672731), params={'radius': 10, 'weights': 'distance'}, user_attrs={}, system_attrs={}, intermediate_values={}, distributions={'radius': IntDistribution(high=32, log=False, low=6, step=1), 'weights': CategoricalDistribution(choices=('uniform', 'distance'))}, trial_id=5, value=None)\n",
    "<br><br>\n",
    "Best parameters after tuning using mean accuracy:\n",
    "{'radius': 10, 'weights': 'distance'}"
   ]
  },
  {
   "cell_type": "code",
   "execution_count": 15,
   "metadata": {},
   "outputs": [
    {
     "name": "stderr",
     "output_type": "stream",
     "text": [
      "d:\\Murgi\\code\\memes2024\\meme-research-2024\\phash\\lib\\site-packages\\sklearn\\neighbors\\_classification.py:768: UserWarning: Outlier label -1 is not in training classes. All class probabilities of outliers will be assigned with 0.\n",
      "  warnings.warn(\n",
      "d:\\Murgi\\code\\memes2024\\meme-research-2024\\phash\\lib\\site-packages\\sklearn\\neighbors\\_classification.py:768: UserWarning: Outlier label -1 is not in training classes. All class probabilities of outliers will be assigned with 0.\n",
      "  warnings.warn(\n",
      "d:\\Murgi\\code\\memes2024\\meme-research-2024\\phash\\lib\\site-packages\\sklearn\\neighbors\\_classification.py:768: UserWarning: Outlier label -1 is not in training classes. All class probabilities of outliers will be assigned with 0.\n",
      "  warnings.warn(\n",
      "d:\\Murgi\\code\\memes2024\\meme-research-2024\\phash\\lib\\site-packages\\sklearn\\neighbors\\_classification.py:768: UserWarning: Outlier label -1 is not in training classes. All class probabilities of outliers will be assigned with 0.\n",
      "  warnings.warn(\n",
      "d:\\Murgi\\code\\memes2024\\meme-research-2024\\phash\\lib\\site-packages\\sklearn\\neighbors\\_classification.py:768: UserWarning: Outlier label -1 is not in training classes. All class probabilities of outliers will be assigned with 0.\n",
      "  warnings.warn(\n",
      "Registered model 'rnn' already exists. Creating a new version of this model...\n",
      "2024/04/22 17:18:15 INFO mlflow.store.model_registry.abstract_store: Waiting up to 300 seconds for model version to finish creation. Model name: rnn, version 51\n",
      "Created version '51' of model 'rnn'.\n",
      "Registered model 'rnn' already exists. Creating a new version of this model...\n",
      "2024/04/22 17:18:27 INFO mlflow.store.model_registry.abstract_store: Waiting up to 300 seconds for model version to finish creation. Model name: rnn, version 52\n",
      "Created version '52' of model 'rnn'.\n",
      "Registered model 'rnn' already exists. Creating a new version of this model...\n",
      "2024/04/22 17:18:39 INFO mlflow.store.model_registry.abstract_store: Waiting up to 300 seconds for model version to finish creation. Model name: rnn, version 53\n",
      "Created version '53' of model 'rnn'.\n",
      "Registered model 'rnn' already exists. Creating a new version of this model...\n",
      "2024/04/22 17:18:55 INFO mlflow.store.model_registry.abstract_store: Waiting up to 300 seconds for model version to finish creation. Model name: rnn, version 54\n",
      "Created version '54' of model 'rnn'.\n",
      "Registered model 'rnn' already exists. Creating a new version of this model...\n",
      "2024/04/22 17:19:09 INFO mlflow.store.model_registry.abstract_store: Waiting up to 300 seconds for model version to finish creation. Model name: rnn, version 55\n",
      "Created version '55' of model 'rnn'.\n"
     ]
    }
   ],
   "source": [
    "from sklearn.metrics import matthews_corrcoef, make_scorer, cohen_kappa_score, f1_score\n",
    "\n",
    "\n",
    "exp_id = get_experiment_id(\"rnn_cross_val_final\")\n",
    "\n",
    "\n",
    "rnn = RadiusNeighborsClassifier(radius=10, weights='distance', metric='manhattan', outlier_label=-1, n_jobs=-1)\n",
    "\n",
    "scoring = {'matthews_corrcoef': make_scorer(matthews_corrcoef),\n",
    "            'cohen_kappa_score': make_scorer(cohen_kappa_score),\n",
    "            'f1_score': make_scorer(f1_score, average='weighted')}\n",
    "\n",
    "# -- Cross-validate the features reduced by dimensionality reduction methods\n",
    "kfold = StratifiedKFold(n_splits=5)\n",
    "scores = cross_validate(rnn, X, y, scoring=scoring, cv=kfold, return_estimator=True)\n",
    "\n",
    "with mlflow.start_run(experiment_id = exp_id):\n",
    "    for i in range(5):\n",
    "        mlflow.log_metrics({\n",
    "            \"f1weighted\": scores['test_f1_score'][i],\n",
    "            \"kappa\": scores['test_cohen_kappa_score'][i],\n",
    "            \"mcc\": scores['test_matthews_corrcoef'][i]\n",
    "        }, step=i)\n",
    "        mlflow.sklearn.log_model(\n",
    "            sk_model=scores['estimator'][i], \n",
    "            artifact_path=f\"rnn_{i}\",\n",
    "            registered_model_name=\"rnn\"\n",
    "        )\n"
   ]
  },
  {
   "cell_type": "code",
   "execution_count": 17,
   "metadata": {},
   "outputs": [
    {
     "name": "stdout",
     "output_type": "stream",
     "text": [
      "Mean F1: 0.9434861793418193\n",
      "Mean Kappa: 0.9126492723860304\n",
      "Mean MCC: 0.9159318491882565\n"
     ]
    }
   ],
   "source": [
    "mean_f1 = np.mean(scores['test_f1_score'])\n",
    "mean_kappa = np.mean(scores['test_cohen_kappa_score'])\n",
    "mean_mcc = np.mean(scores['test_matthews_corrcoef'])\n",
    "\n",
    "print(f\"Mean F1: {mean_f1}\")\n",
    "print(f\"Mean Kappa: {mean_kappa}\")\n",
    "print(f\"Mean MCC: {mean_mcc}\")"
   ]
  }
 ],
 "metadata": {
  "kernelspec": {
   "display_name": "phash",
   "language": "python",
   "name": "python3"
  },
  "language_info": {
   "codemirror_mode": {
    "name": "ipython",
    "version": 3
   },
   "file_extension": ".py",
   "mimetype": "text/x-python",
   "name": "python",
   "nbconvert_exporter": "python",
   "pygments_lexer": "ipython3",
   "version": "3.9.13"
  }
 },
 "nbformat": 4,
 "nbformat_minor": 2
}
