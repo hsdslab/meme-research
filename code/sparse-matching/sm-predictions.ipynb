{
 "cells": [
  {
   "cell_type": "code",
   "execution_count": 47,
   "metadata": {},
   "outputs": [],
   "source": [
    "import os\n",
    "import pandas as pd\n",
    "from sklearn.preprocessing import LabelEncoder\n",
    "\n",
    "os.chdir(r'd:/Murgi/code/memes2024/meme-research-2024')\n",
    "\n",
    "meme_df = pd.read_parquet('./data/meme_entries.parquet')\n",
    "labelencoder = LabelEncoder()\n",
    "meme_df['template_id'] = labelencoder.fit_transform(meme_df['template_name'])\n",
    "meme_df['template_id'] = meme_df['template_id'] + 1\n",
    "\n",
    "template_dict = {k: v for k, v in zip(meme_df['template_id'], meme_df['template_name'])}\n",
    "template_dict[0] = 'templateless'\n"
   ]
  },
  {
   "cell_type": "code",
   "execution_count": 48,
   "metadata": {},
   "outputs": [
    {
     "data": {
      "text/html": [
       "<div>\n",
       "<style scoped>\n",
       "    .dataframe tbody tr th:only-of-type {\n",
       "        vertical-align: middle;\n",
       "    }\n",
       "\n",
       "    .dataframe tbody tr th {\n",
       "        vertical-align: top;\n",
       "    }\n",
       "\n",
       "    .dataframe thead th {\n",
       "        text-align: right;\n",
       "    }\n",
       "</style>\n",
       "<table border=\"1\" class=\"dataframe\">\n",
       "  <thead>\n",
       "    <tr style=\"text-align: right;\">\n",
       "      <th></th>\n",
       "      <th>path</th>\n",
       "      <th>pred</th>\n",
       "    </tr>\n",
       "  </thead>\n",
       "  <tbody>\n",
       "    <tr>\n",
       "      <th>0</th>\n",
       "      <td>C:\\Users\\molontay\\Murgi\\data\\Memes2022Final2\\M...</td>\n",
       "      <td>579</td>\n",
       "    </tr>\n",
       "    <tr>\n",
       "      <th>1</th>\n",
       "      <td>C:\\Users\\molontay\\Murgi\\data\\Memes2022Final2\\M...</td>\n",
       "      <td>0</td>\n",
       "    </tr>\n",
       "    <tr>\n",
       "      <th>2</th>\n",
       "      <td>C:\\Users\\molontay\\Murgi\\data\\Memes2022Final2\\M...</td>\n",
       "      <td>0</td>\n",
       "    </tr>\n",
       "    <tr>\n",
       "      <th>3</th>\n",
       "      <td>C:\\Users\\molontay\\Murgi\\data\\Memes2022Final2\\M...</td>\n",
       "      <td>0</td>\n",
       "    </tr>\n",
       "    <tr>\n",
       "      <th>4</th>\n",
       "      <td>C:\\Users\\molontay\\Murgi\\data\\Memes2022Final2\\M...</td>\n",
       "      <td>0</td>\n",
       "    </tr>\n",
       "    <tr>\n",
       "      <th>...</th>\n",
       "      <td>...</td>\n",
       "      <td>...</td>\n",
       "    </tr>\n",
       "    <tr>\n",
       "      <th>108289</th>\n",
       "      <td>C:\\Users\\molontay\\Murgi\\data\\Memes2022Final2\\M...</td>\n",
       "      <td>0</td>\n",
       "    </tr>\n",
       "    <tr>\n",
       "      <th>108290</th>\n",
       "      <td>C:\\Users\\molontay\\Murgi\\data\\Memes2022Final2\\M...</td>\n",
       "      <td>0</td>\n",
       "    </tr>\n",
       "    <tr>\n",
       "      <th>108291</th>\n",
       "      <td>C:\\Users\\molontay\\Murgi\\data\\Memes2022Final2\\M...</td>\n",
       "      <td>0</td>\n",
       "    </tr>\n",
       "    <tr>\n",
       "      <th>108292</th>\n",
       "      <td>C:\\Users\\molontay\\Murgi\\data\\Memes2022Final2\\M...</td>\n",
       "      <td>0</td>\n",
       "    </tr>\n",
       "    <tr>\n",
       "      <th>108293</th>\n",
       "      <td>C:\\Users\\molontay\\Murgi\\data\\Memes2022Final2\\M...</td>\n",
       "      <td>0</td>\n",
       "    </tr>\n",
       "  </tbody>\n",
       "</table>\n",
       "<p>108294 rows × 2 columns</p>\n",
       "</div>"
      ],
      "text/plain": [
       "                                                     path  pred\n",
       "0       C:\\Users\\molontay\\Murgi\\data\\Memes2022Final2\\M...   579\n",
       "1       C:\\Users\\molontay\\Murgi\\data\\Memes2022Final2\\M...     0\n",
       "2       C:\\Users\\molontay\\Murgi\\data\\Memes2022Final2\\M...     0\n",
       "3       C:\\Users\\molontay\\Murgi\\data\\Memes2022Final2\\M...     0\n",
       "4       C:\\Users\\molontay\\Murgi\\data\\Memes2022Final2\\M...     0\n",
       "...                                                   ...   ...\n",
       "108289  C:\\Users\\molontay\\Murgi\\data\\Memes2022Final2\\M...     0\n",
       "108290  C:\\Users\\molontay\\Murgi\\data\\Memes2022Final2\\M...     0\n",
       "108291  C:\\Users\\molontay\\Murgi\\data\\Memes2022Final2\\M...     0\n",
       "108292  C:\\Users\\molontay\\Murgi\\data\\Memes2022Final2\\M...     0\n",
       "108293  C:\\Users\\molontay\\Murgi\\data\\Memes2022Final2\\M...     0\n",
       "\n",
       "[108294 rows x 2 columns]"
      ]
     },
     "execution_count": 48,
     "metadata": {},
     "output_type": "execute_result"
    }
   ],
   "source": [
    "with open('./sparse_matching_sm_preds.txt', 'r') as f:\n",
    "    lines = f.readlines()\n",
    "\n",
    "paths = []\n",
    "preds = []\n",
    "for i, line in enumerate(lines):\n",
    "    try:\n",
    "        line = line.strip()\n",
    "        path, pred = line.split('\\t')\n",
    "        paths.append(path)\n",
    "        preds.append(pred)\n",
    "    except:\n",
    "        print(i,line)\n",
    "df = pd.DataFrame({'path': paths, 'pred': preds})\n",
    "# cast pred to int32\n",
    "df['pred'] = df['pred'].astype('int32')\n",
    "df"
   ]
  },
  {
   "cell_type": "code",
   "execution_count": 53,
   "metadata": {},
   "outputs": [
    {
     "data": {
      "text/plain": [
       "source\n",
       "reddit      97087\n",
       "twitter     10207\n",
       "facebook     1000\n",
       "Name: count, dtype: int64"
      ]
     },
     "execution_count": 53,
     "metadata": {},
     "output_type": "execute_result"
    }
   ],
   "source": [
    "df['predicted_template'] = df['pred'].map(template_dict)\n",
    "\n",
    "def add_source(row):\n",
    "    # if the path contains 'train' then it's a training meme\n",
    "    if 'Memes2022Final2' in row['path']:\n",
    "        return 'reddit'\n",
    "    # if the path contains 'val' then it's a validation meme\n",
    "    elif 'Facebook2023' in row['path']:\n",
    "        return 'facebook'\n",
    "    # if the path contains 'test' then it's a test meme\n",
    "    elif 'Twitter2023' in row['path']:\n",
    "        return 'twitter'\n",
    "    \n",
    "    \n",
    "df['source'] = df.apply(add_source, axis=1)\n",
    "df.source.value_counts()"
   ]
  },
  {
   "cell_type": "code",
   "execution_count": 58,
   "metadata": {},
   "outputs": [],
   "source": [
    "df.loc[:,'path'] = df['path'].str.replace('\\\\', '/')\n",
    "df['id'] = df['path'].apply(lambda x: os.path.basename(os.path.splitext(x)[0]))\n",
    "df.to_parquet('./data/sparse_matching/sparse_matching_sm_preds.parquet', index=False)\n"
   ]
  }
 ],
 "metadata": {
  "kernelspec": {
   "display_name": "phash",
   "language": "python",
   "name": "python3"
  },
  "language_info": {
   "codemirror_mode": {
    "name": "ipython",
    "version": 3
   },
   "file_extension": ".py",
   "mimetype": "text/x-python",
   "name": "python",
   "nbconvert_exporter": "python",
   "pygments_lexer": "ipython3",
   "version": "3.9.13"
  }
 },
 "nbformat": 4,
 "nbformat_minor": 2
}
