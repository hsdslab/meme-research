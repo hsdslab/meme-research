{
 "cells": [
  {
   "cell_type": "markdown",
   "metadata": {},
   "source": [
    "## Baseline Classifier"
   ]
  },
  {
   "cell_type": "code",
   "execution_count": 1,
   "metadata": {},
   "outputs": [
    {
     "name": "stdout",
     "output_type": "stream",
     "text": [
      "d:\\Murgi\\code\\memes2024\\meme-research-2024\n"
     ]
    },
    {
     "name": "stderr",
     "output_type": "stream",
     "text": [
      "d:\\Murgi\\code\\memes2024\\meme-research-2024\\phash\\lib\\site-packages\\IPython\\core\\magics\\osm.py:417: UserWarning: using dhist requires you to install the `pickleshare` library.\n",
      "  self.shell.db['dhist'] = compress_dhist(dhist)[-100:]\n"
     ]
    },
    {
     "data": {
      "text/plain": [
       "'d:\\\\Murgi\\\\code\\\\memes2024\\\\meme-research-2024'"
      ]
     },
     "execution_count": 1,
     "metadata": {},
     "output_type": "execute_result"
    }
   ],
   "source": [
    "%pwd\n",
    "%cd d:\\\\Murgi\\\\code\\\\memes2024\\\\meme-research-2024\n",
    "%pwd\n"
   ]
  },
  {
   "cell_type": "markdown",
   "metadata": {},
   "source": [
    "Import libs"
   ]
  },
  {
   "cell_type": "code",
   "execution_count": 2,
   "metadata": {},
   "outputs": [],
   "source": [
    "import cv2\n",
    "import numpy as np\n",
    "from matplotlib import pyplot as plt\n",
    "import pandas as pd\n",
    "from skimage import feature\n",
    "from PIL import Image\n",
    "from joblib import Parallel, delayed\n",
    "import multiprocessing\n",
    "import time\n",
    "from sklearn.preprocessing import LabelEncoder\n",
    "from sklearn.model_selection import StratifiedKFold\n",
    "from sklearn.linear_model import LogisticRegression\n",
    "from sklearn.metrics import matthews_corrcoef, cohen_kappa_score, f1_score\n",
    "import mlflow\n",
    "import constants\n",
    "import os\n"
   ]
  },
  {
   "cell_type": "markdown",
   "metadata": {},
   "source": [
    "### Load data"
   ]
  },
  {
   "cell_type": "code",
   "execution_count": 3,
   "metadata": {},
   "outputs": [
    {
     "data": {
      "text/html": [
       "<div>\n",
       "<style scoped>\n",
       "    .dataframe tbody tr th:only-of-type {\n",
       "        vertical-align: middle;\n",
       "    }\n",
       "\n",
       "    .dataframe tbody tr th {\n",
       "        vertical-align: top;\n",
       "    }\n",
       "\n",
       "    .dataframe thead th {\n",
       "        text-align: right;\n",
       "    }\n",
       "</style>\n",
       "<table border=\"1\" class=\"dataframe\">\n",
       "  <thead>\n",
       "    <tr style=\"text-align: right;\">\n",
       "      <th></th>\n",
       "      <th>id</th>\n",
       "      <th>template_name</th>\n",
       "      <th>path</th>\n",
       "      <th>phash</th>\n",
       "    </tr>\n",
       "  </thead>\n",
       "  <tbody>\n",
       "    <tr>\n",
       "      <th>0</th>\n",
       "      <td>0-days-without-lenny-simpsons</td>\n",
       "      <td>0-days-without-lenny-simpsons</td>\n",
       "      <td>D:/Memes2024/0-days-without-Lenny-Simpsons/0-d...</td>\n",
       "      <td>0fe9b236e884fc38</td>\n",
       "    </tr>\n",
       "    <tr>\n",
       "      <th>1</th>\n",
       "      <td>0-days-without-Lenny-Simpsons_23</td>\n",
       "      <td>0-days-without-lenny-simpsons</td>\n",
       "      <td>D:/Memes2024/0-days-without-Lenny-Simpsons/0-d...</td>\n",
       "      <td>07e5ba2ee806fe30</td>\n",
       "    </tr>\n",
       "    <tr>\n",
       "      <th>2</th>\n",
       "      <td>0-days-without-Lenny-Simpsons_1</td>\n",
       "      <td>0-days-without-lenny-simpsons</td>\n",
       "      <td>D:/Memes2024/0-days-without-Lenny-Simpsons/0-d...</td>\n",
       "      <td>1fed3226e804fe38</td>\n",
       "    </tr>\n",
       "    <tr>\n",
       "      <th>3</th>\n",
       "      <td>0-days-without-Lenny-Simpsons_24</td>\n",
       "      <td>0-days-without-lenny-simpsons</td>\n",
       "      <td>D:/Memes2024/0-days-without-Lenny-Simpsons/0-d...</td>\n",
       "      <td>07e1b83ee886fa38</td>\n",
       "    </tr>\n",
       "    <tr>\n",
       "      <th>4</th>\n",
       "      <td>0-days-without-Lenny-Simpsons_10</td>\n",
       "      <td>0-days-without-lenny-simpsons</td>\n",
       "      <td>D:/Memes2024/0-days-without-Lenny-Simpsons/0-d...</td>\n",
       "      <td>17e5b22ee806fe30</td>\n",
       "    </tr>\n",
       "    <tr>\n",
       "      <th>...</th>\n",
       "      <td>...</td>\n",
       "      <td>...</td>\n",
       "      <td>...</td>\n",
       "      <td>...</td>\n",
       "    </tr>\n",
       "    <tr>\n",
       "      <th>124196</th>\n",
       "      <td>skeleton-computer-84</td>\n",
       "      <td>skeleton-computer</td>\n",
       "      <td>D:/Memes2024/Skeleton-Computer/skeleton-comput...</td>\n",
       "      <td>e1e68b1929253d3d</td>\n",
       "    </tr>\n",
       "    <tr>\n",
       "      <th>124197</th>\n",
       "      <td>nick-young-178</td>\n",
       "      <td>nick-young</td>\n",
       "      <td>D:/Memes2024/Nick-Young/nick-young-178.jpg</td>\n",
       "      <td>4bd5913e14da4e55</td>\n",
       "    </tr>\n",
       "    <tr>\n",
       "      <th>124198</th>\n",
       "      <td>success-kid-original-196</td>\n",
       "      <td>success-kid-original</td>\n",
       "      <td>D:/Memes2024/Success-Kid-Original/success-kid-...</td>\n",
       "      <td>1d1d301f32c3f2e3</td>\n",
       "    </tr>\n",
       "    <tr>\n",
       "      <th>124199</th>\n",
       "      <td>Wrong-Neighboorhood-Cats_23</td>\n",
       "      <td>wrong-neighboorhood-cats</td>\n",
       "      <td>D:/Memes2024/Wrong-Neighboorhood-Cats/Wrong-Ne...</td>\n",
       "      <td>a950535053abb3bb</td>\n",
       "    </tr>\n",
       "    <tr>\n",
       "      <th>124200</th>\n",
       "      <td>Tuna-the-dog-Phteven_24</td>\n",
       "      <td>tuna-the-dog-phteven</td>\n",
       "      <td>D:/Memes2024/Tuna-the-dog-Phteven/Tuna-the-dog...</td>\n",
       "      <td>4f420398f03f7c7a</td>\n",
       "    </tr>\n",
       "  </tbody>\n",
       "</table>\n",
       "<p>124201 rows × 4 columns</p>\n",
       "</div>"
      ],
      "text/plain": [
       "                                      id                  template_name  \\\n",
       "0          0-days-without-lenny-simpsons  0-days-without-lenny-simpsons   \n",
       "1       0-days-without-Lenny-Simpsons_23  0-days-without-lenny-simpsons   \n",
       "2        0-days-without-Lenny-Simpsons_1  0-days-without-lenny-simpsons   \n",
       "3       0-days-without-Lenny-Simpsons_24  0-days-without-lenny-simpsons   \n",
       "4       0-days-without-Lenny-Simpsons_10  0-days-without-lenny-simpsons   \n",
       "...                                  ...                            ...   \n",
       "124196              skeleton-computer-84              skeleton-computer   \n",
       "124197                    nick-young-178                     nick-young   \n",
       "124198          success-kid-original-196           success-kid-original   \n",
       "124199       Wrong-Neighboorhood-Cats_23       wrong-neighboorhood-cats   \n",
       "124200           Tuna-the-dog-Phteven_24           tuna-the-dog-phteven   \n",
       "\n",
       "                                                     path             phash  \n",
       "0       D:/Memes2024/0-days-without-Lenny-Simpsons/0-d...  0fe9b236e884fc38  \n",
       "1       D:/Memes2024/0-days-without-Lenny-Simpsons/0-d...  07e5ba2ee806fe30  \n",
       "2       D:/Memes2024/0-days-without-Lenny-Simpsons/0-d...  1fed3226e804fe38  \n",
       "3       D:/Memes2024/0-days-without-Lenny-Simpsons/0-d...  07e1b83ee886fa38  \n",
       "4       D:/Memes2024/0-days-without-Lenny-Simpsons/0-d...  17e5b22ee806fe30  \n",
       "...                                                   ...               ...  \n",
       "124196  D:/Memes2024/Skeleton-Computer/skeleton-comput...  e1e68b1929253d3d  \n",
       "124197         D:/Memes2024/Nick-Young/nick-young-178.jpg  4bd5913e14da4e55  \n",
       "124198  D:/Memes2024/Success-Kid-Original/success-kid-...  1d1d301f32c3f2e3  \n",
       "124199  D:/Memes2024/Wrong-Neighboorhood-Cats/Wrong-Ne...  a950535053abb3bb  \n",
       "124200  D:/Memes2024/Tuna-the-dog-Phteven/Tuna-the-dog...  4f420398f03f7c7a  \n",
       "\n",
       "[124201 rows x 4 columns]"
      ]
     },
     "execution_count": 3,
     "metadata": {},
     "output_type": "execute_result"
    }
   ],
   "source": [
    "meme_df = pd.read_parquet(\"./data\\meme_entries.parquet\")\n",
    "meme_df"
   ]
  },
  {
   "cell_type": "code",
   "execution_count": 6,
   "metadata": {},
   "outputs": [
    {
     "data": {
      "text/plain": [
       "(124201, 1052)"
      ]
     },
     "execution_count": 6,
     "metadata": {},
     "output_type": "execute_result"
    }
   ],
   "source": [
    "img_flip_features = np.load(r\"D:\\Murgi\\code\\memes2024\\meme-research-2024\\data\\mlr\\baseline_features.npy\")\n",
    "img_flip_features.shape"
   ]
  },
  {
   "cell_type": "markdown",
   "metadata": {},
   "source": [
    "### Feature extraction pipeline\n",
    "\n",
    "Extracts:\n",
    "- RGB historgram\n",
    "- Grayscale histogram\n",
    "- LBP features"
   ]
  },
  {
   "cell_type": "code",
   "execution_count": 5,
   "metadata": {},
   "outputs": [],
   "source": [
    "\n",
    "\n",
    "def extract_features(image_path):\n",
    "    # Check if the file is a GIF\n",
    "    if image_path.endswith('.gif') or image_path.endswith('.GIF'):\n",
    "        img = Image.open(image_path)\n",
    "        img = img.convert('RGB') # Convert to RGB\n",
    "        img = np.array(img) # Convert to NumPy array\n",
    "    else:\n",
    "        img = cv2.imread(image_path)\n",
    "        if img is None or img.size == 0:\n",
    "            print(f\"Failed to load image at path {image_path}\")\n",
    "            return None\n",
    "        img = cv2.cvtColor(img, cv2.COLOR_BGR2RGB) # Convert to standard RGB\n",
    "\n",
    "    # convert image to HSV and calculate HSV histogram\n",
    "    hsv_img = cv2.cvtColor(img, cv2.COLOR_BGR2HSV)\n",
    "    hsv_features = []\n",
    "    for i in range(3):  # for each channel\n",
    "        hist = cv2.calcHist([hsv_img], [i], None, [256], [0, 256])\n",
    "        hsv_features.extend(hist.flatten())\n",
    "\n",
    "    # convert image to grayscale and calculate grayscale histogram\n",
    "    gray = cv2.cvtColor(img, cv2.COLOR_BGR2GRAY)\n",
    "    grayscale_hist = cv2.calcHist([gray], [0], None, [256], [0, 256])\n",
    "    grayscale_features = grayscale_hist.flatten()\n",
    "\n",
    "    # calculate LBP features\n",
    "    lbp = feature.local_binary_pattern(gray, P=24, R=8, method=\"uniform\")\n",
    "    n_points = int(lbp.max() + 1)\n",
    "    lbp_hist, _ = np.histogram(lbp.ravel(), bins=np.arange(0, n_points + 3), range=(0, n_points + 2))\n",
    "    lbp_features = lbp_hist.astype(\"float\")\n",
    "    lbp_features /= (lbp_features.sum() + 1e-7)  # normalize histogram\n",
    "\n",
    "    # Check the length of the LBP features and append a zero if necessary, to have a consistent length of features in all images\n",
    "    if len(lbp_features) == 27:\n",
    "        lbp_features = np.append(lbp_features, 0)\n",
    "\n",
    "    # concatenate all features into a single feature vector\n",
    "    feature_vector = np.hstack([hsv_features, grayscale_features, lbp_features])\n",
    "\n",
    "    # Debug only:\n",
    "    # print(\"HSV features shape:\", len(hsv_features))\n",
    "    # print(\"Grayscale features shape:\", len(grayscale_features))\n",
    "    # print(\"LBP features shape:\", len(lbp_features))\n",
    "\n",
    "    return feature_vector\n",
    "\n",
    "# example usage:\n",
    "# image_path = 'meme.jpg'\n",
    "# features = extract_features(image_path)"
   ]
  },
  {
   "cell_type": "markdown",
   "metadata": {},
   "source": [
    "### Preprocessing"
   ]
  },
  {
   "cell_type": "code",
   "execution_count": 8,
   "metadata": {},
   "outputs": [],
   "source": [
    "sm_df = pd.read_parquet(r\"D:\\Murgi\\code\\meme-evaluator\\final-predictions\\evaluated_sm_images.parquet\")\n",
    "\n",
    "image_paths = sm_df['path'].tolist()"
   ]
  },
  {
   "cell_type": "markdown",
   "metadata": {},
   "source": [
    "Extract features from the dataset"
   ]
  },
  {
   "cell_type": "code",
   "execution_count": 9,
   "metadata": {},
   "outputs": [
    {
     "data": {
      "application/vnd.jupyter.widget-view+json": {
       "model_id": "605e9797ea45401899dbe033707665b7",
       "version_major": 2,
       "version_minor": 0
      },
      "text/plain": [
       "  0%|          | 0/330 [00:00<?, ?it/s]"
      ]
     },
     "metadata": {},
     "output_type": "display_data"
    },
    {
     "name": "stdout",
     "output_type": "stream",
     "text": [
      "Time taken to extract features from 330 images: 22.88 seconds\n"
     ]
    }
   ],
   "source": [
    "from tqdm.contrib.concurrent import thread_map  # or thread_map\n",
    "\n",
    "# Get number of cores\n",
    "num_cores = multiprocessing.cpu_count() - 1\n",
    "\n",
    "# test_image_paths = image_paths[:1]\n",
    "\n",
    "# Use joblib to parallelize feature extraction\n",
    "start = time.time()\n",
    "features = thread_map(extract_features, image_paths, max_workers=num_cores)\n",
    "end = time.time()\n",
    "print(f\"Time taken to extract features from {len(image_paths)} images: {end-start:.2f} seconds\")\n"
   ]
  },
  {
   "cell_type": "code",
   "execution_count": 12,
   "metadata": {},
   "outputs": [],
   "source": [
    "features = np.array(features)\n",
    "features.shape\n",
    "\n",
    "X_test = features"
   ]
  },
  {
   "cell_type": "markdown",
   "metadata": {},
   "source": [
    "## Fit the model"
   ]
  },
  {
   "cell_type": "code",
   "execution_count": 11,
   "metadata": {},
   "outputs": [],
   "source": [
    "X = img_flip_features\n",
    "X = X.astype('float32')\n",
    "\n",
    "labelencoder = LabelEncoder()\n",
    "meme_df['template_id'] = labelencoder.fit_transform(meme_df['template_name'])\n",
    "\n",
    "y = meme_df['template_id'].copy()\n"
   ]
  },
  {
   "cell_type": "code",
   "execution_count": 14,
   "metadata": {},
   "outputs": [
    {
     "name": "stderr",
     "output_type": "stream",
     "text": [
      "d:\\Murgi\\code\\memes2024\\meme-research-2024\\phash\\lib\\site-packages\\sklearn\\linear_model\\_logistic.py:460: ConvergenceWarning: lbfgs failed to converge (status=1):\n",
      "STOP: TOTAL NO. of ITERATIONS REACHED LIMIT.\n",
      "\n",
      "Increase the number of iterations (max_iter) or scale the data as shown in:\n",
      "    https://scikit-learn.org/stable/modules/preprocessing.html\n",
      "Please also refer to the documentation for alternative solver options:\n",
      "    https://scikit-learn.org/stable/modules/linear_model.html#logistic-regression\n",
      "  n_iter_i = _check_optimize_result(\n"
     ]
    },
    {
     "data": {
      "text/html": [
       "<style>#sk-container-id-1 {color: black;}#sk-container-id-1 pre{padding: 0;}#sk-container-id-1 div.sk-toggleable {background-color: white;}#sk-container-id-1 label.sk-toggleable__label {cursor: pointer;display: block;width: 100%;margin-bottom: 0;padding: 0.3em;box-sizing: border-box;text-align: center;}#sk-container-id-1 label.sk-toggleable__label-arrow:before {content: \"▸\";float: left;margin-right: 0.25em;color: #696969;}#sk-container-id-1 label.sk-toggleable__label-arrow:hover:before {color: black;}#sk-container-id-1 div.sk-estimator:hover label.sk-toggleable__label-arrow:before {color: black;}#sk-container-id-1 div.sk-toggleable__content {max-height: 0;max-width: 0;overflow: hidden;text-align: left;background-color: #f0f8ff;}#sk-container-id-1 div.sk-toggleable__content pre {margin: 0.2em;color: black;border-radius: 0.25em;background-color: #f0f8ff;}#sk-container-id-1 input.sk-toggleable__control:checked~div.sk-toggleable__content {max-height: 200px;max-width: 100%;overflow: auto;}#sk-container-id-1 input.sk-toggleable__control:checked~label.sk-toggleable__label-arrow:before {content: \"▾\";}#sk-container-id-1 div.sk-estimator input.sk-toggleable__control:checked~label.sk-toggleable__label {background-color: #d4ebff;}#sk-container-id-1 div.sk-label input.sk-toggleable__control:checked~label.sk-toggleable__label {background-color: #d4ebff;}#sk-container-id-1 input.sk-hidden--visually {border: 0;clip: rect(1px 1px 1px 1px);clip: rect(1px, 1px, 1px, 1px);height: 1px;margin: -1px;overflow: hidden;padding: 0;position: absolute;width: 1px;}#sk-container-id-1 div.sk-estimator {font-family: monospace;background-color: #f0f8ff;border: 1px dotted black;border-radius: 0.25em;box-sizing: border-box;margin-bottom: 0.5em;}#sk-container-id-1 div.sk-estimator:hover {background-color: #d4ebff;}#sk-container-id-1 div.sk-parallel-item::after {content: \"\";width: 100%;border-bottom: 1px solid gray;flex-grow: 1;}#sk-container-id-1 div.sk-label:hover label.sk-toggleable__label {background-color: #d4ebff;}#sk-container-id-1 div.sk-serial::before {content: \"\";position: absolute;border-left: 1px solid gray;box-sizing: border-box;top: 0;bottom: 0;left: 50%;z-index: 0;}#sk-container-id-1 div.sk-serial {display: flex;flex-direction: column;align-items: center;background-color: white;padding-right: 0.2em;padding-left: 0.2em;position: relative;}#sk-container-id-1 div.sk-item {position: relative;z-index: 1;}#sk-container-id-1 div.sk-parallel {display: flex;align-items: stretch;justify-content: center;background-color: white;position: relative;}#sk-container-id-1 div.sk-item::before, #sk-container-id-1 div.sk-parallel-item::before {content: \"\";position: absolute;border-left: 1px solid gray;box-sizing: border-box;top: 0;bottom: 0;left: 50%;z-index: -1;}#sk-container-id-1 div.sk-parallel-item {display: flex;flex-direction: column;z-index: 1;position: relative;background-color: white;}#sk-container-id-1 div.sk-parallel-item:first-child::after {align-self: flex-end;width: 50%;}#sk-container-id-1 div.sk-parallel-item:last-child::after {align-self: flex-start;width: 50%;}#sk-container-id-1 div.sk-parallel-item:only-child::after {width: 0;}#sk-container-id-1 div.sk-dashed-wrapped {border: 1px dashed gray;margin: 0 0.4em 0.5em 0.4em;box-sizing: border-box;padding-bottom: 0.4em;background-color: white;}#sk-container-id-1 div.sk-label label {font-family: monospace;font-weight: bold;display: inline-block;line-height: 1.2em;}#sk-container-id-1 div.sk-label-container {text-align: center;}#sk-container-id-1 div.sk-container {/* jupyter's `normalize.less` sets `[hidden] { display: none; }` but bootstrap.min.css set `[hidden] { display: none !important; }` so we also need the `!important` here to be able to override the default hidden behavior on the sphinx rendered scikit-learn.org. See: https://github.com/scikit-learn/scikit-learn/issues/21755 */display: inline-block !important;position: relative;}#sk-container-id-1 div.sk-text-repr-fallback {display: none;}</style><div id=\"sk-container-id-1\" class=\"sk-top-container\"><div class=\"sk-text-repr-fallback\"><pre>LogisticRegression(class_weight=&#x27;balanced&#x27;, multi_class=&#x27;multinomial&#x27;,\n",
       "                   random_state=42)</pre><b>In a Jupyter environment, please rerun this cell to show the HTML representation or trust the notebook. <br />On GitHub, the HTML representation is unable to render, please try loading this page with nbviewer.org.</b></div><div class=\"sk-container\" hidden><div class=\"sk-item\"><div class=\"sk-estimator sk-toggleable\"><input class=\"sk-toggleable__control sk-hidden--visually\" id=\"sk-estimator-id-1\" type=\"checkbox\" checked><label for=\"sk-estimator-id-1\" class=\"sk-toggleable__label sk-toggleable__label-arrow\">LogisticRegression</label><div class=\"sk-toggleable__content\"><pre>LogisticRegression(class_weight=&#x27;balanced&#x27;, multi_class=&#x27;multinomial&#x27;,\n",
       "                   random_state=42)</pre></div></div></div></div></div>"
      ],
      "text/plain": [
       "LogisticRegression(class_weight='balanced', multi_class='multinomial',\n",
       "                   random_state=42)"
      ]
     },
     "execution_count": 14,
     "metadata": {},
     "output_type": "execute_result"
    }
   ],
   "source": [
    "skf = StratifiedKFold(n_splits=5, random_state=42, shuffle=True)\n",
    "\n",
    "train_index, test_index = next(skf.split(X, y))\n",
    "X_train = X[train_index]\n",
    "y_train = np.array(y)[train_index]\n",
    "\n",
    "clf= LogisticRegression(multi_class='multinomial', class_weight='balanced', solver='lbfgs', random_state=42)\n",
    "\n",
    "clf.fit(X_train, y_train)"
   ]
  },
  {
   "cell_type": "markdown",
   "metadata": {},
   "source": [
    "## Make predictions on the SM data"
   ]
  },
  {
   "cell_type": "code",
   "execution_count": 15,
   "metadata": {},
   "outputs": [],
   "source": [
    "y_pred = clf.predict(X_test)"
   ]
  },
  {
   "cell_type": "markdown",
   "metadata": {},
   "source": [
    "-----"
   ]
  },
  {
   "cell_type": "markdown",
   "metadata": {},
   "source": [
    "# Evaluate the classifier"
   ]
  },
  {
   "cell_type": "markdown",
   "metadata": {},
   "source": [
    "Add predictions to the df"
   ]
  },
  {
   "cell_type": "code",
   "execution_count": 16,
   "metadata": {},
   "outputs": [],
   "source": [
    "sm_df['encoded_predictions'] = y_pred\n",
    "sm_df['predictions'] = sm_df.loc[:,'encoded_predictions'].apply(lambda x: labelencoder.inverse_transform([x])[0] if x != -1 else 'templateless')\n",
    "sm_df.to_parquet(r\"D:\\Murgi\\code\\memes2024\\meme-research-2024\\reports\\mlr\\sm_predictions.parquet\")   "
   ]
  },
  {
   "cell_type": "code",
   "execution_count": 17,
   "metadata": {},
   "outputs": [
    {
     "data": {
      "text/html": [
       "<div>\n",
       "<style scoped>\n",
       "    .dataframe tbody tr th:only-of-type {\n",
       "        vertical-align: middle;\n",
       "    }\n",
       "\n",
       "    .dataframe tbody tr th {\n",
       "        vertical-align: top;\n",
       "    }\n",
       "\n",
       "    .dataframe thead th {\n",
       "        text-align: right;\n",
       "    }\n",
       "</style>\n",
       "<table border=\"1\" class=\"dataframe\">\n",
       "  <thead>\n",
       "    <tr style=\"text-align: right;\">\n",
       "      <th></th>\n",
       "      <th>id</th>\n",
       "      <th>source</th>\n",
       "      <th>path</th>\n",
       "      <th>ground_truth</th>\n",
       "      <th>phash</th>\n",
       "      <th>encoded_predictions</th>\n",
       "      <th>predictions</th>\n",
       "      <th>ground_truth_binary</th>\n",
       "      <th>predictions_binary</th>\n",
       "    </tr>\n",
       "  </thead>\n",
       "  <tbody>\n",
       "    <tr>\n",
       "      <th>0</th>\n",
       "      <td>959099244454225_added-23590</td>\n",
       "      <td>facebook</td>\n",
       "      <td>D:/Murgi/Facebook2023/Facebook2023/95909924445...</td>\n",
       "      <td>templateless</td>\n",
       "      <td>730d2df2855f3087</td>\n",
       "      <td>57</td>\n",
       "      <td>anime-boy-running</td>\n",
       "      <td>0</td>\n",
       "      <td>1</td>\n",
       "    </tr>\n",
       "    <tr>\n",
       "      <th>1</th>\n",
       "      <td>562359021251691_added-37275</td>\n",
       "      <td>facebook</td>\n",
       "      <td>D:/Murgi/Facebook2023/Facebook2023/56235902125...</td>\n",
       "      <td>templateless</td>\n",
       "      <td>01b6fe1d14e3c393</td>\n",
       "      <td>194</td>\n",
       "      <td>children-scared-of-rabbit</td>\n",
       "      <td>0</td>\n",
       "      <td>1</td>\n",
       "    </tr>\n",
       "    <tr>\n",
       "      <th>2</th>\n",
       "      <td>2022.10.29_846</td>\n",
       "      <td>reddit</td>\n",
       "      <td>C:/Users/molontay/Murgi/data/Memes2022Final2/M...</td>\n",
       "      <td>templateless</td>\n",
       "      <td>5da1539b314ce91e</td>\n",
       "      <td>804</td>\n",
       "      <td>sad-pablo-escobar</td>\n",
       "      <td>0</td>\n",
       "      <td>1</td>\n",
       "    </tr>\n",
       "    <tr>\n",
       "      <th>3</th>\n",
       "      <td>2021.12.15_469</td>\n",
       "      <td>reddit</td>\n",
       "      <td>C:/Users/molontay/Murgi/data/Memes2022Final2/M...</td>\n",
       "      <td>templateless</td>\n",
       "      <td>63639c893676c396</td>\n",
       "      <td>607</td>\n",
       "      <td>mega-rage-face</td>\n",
       "      <td>0</td>\n",
       "      <td>1</td>\n",
       "    </tr>\n",
       "    <tr>\n",
       "      <th>4</th>\n",
       "      <td>959099244454225_added-13624</td>\n",
       "      <td>facebook</td>\n",
       "      <td>D:/Murgi/Facebook2023/Facebook2023/95909924445...</td>\n",
       "      <td>templateless</td>\n",
       "      <td>1fb4e64334c33ca6</td>\n",
       "      <td>1020</td>\n",
       "      <td>troll-face</td>\n",
       "      <td>0</td>\n",
       "      <td>1</td>\n",
       "    </tr>\n",
       "    <tr>\n",
       "      <th>...</th>\n",
       "      <td>...</td>\n",
       "      <td>...</td>\n",
       "      <td>...</td>\n",
       "      <td>...</td>\n",
       "      <td>...</td>\n",
       "      <td>...</td>\n",
       "      <td>...</td>\n",
       "      <td>...</td>\n",
       "      <td>...</td>\n",
       "    </tr>\n",
       "    <tr>\n",
       "      <th>325</th>\n",
       "      <td>2019_6-7481</td>\n",
       "      <td>twitter</td>\n",
       "      <td>D:/Murgi/Twitter2023/2019_6-7481.jpg</td>\n",
       "      <td>templateless</td>\n",
       "      <td>e38fb4466d645352</td>\n",
       "      <td>1019</td>\n",
       "      <td>trojan-horse</td>\n",
       "      <td>0</td>\n",
       "      <td>1</td>\n",
       "    </tr>\n",
       "    <tr>\n",
       "      <th>326</th>\n",
       "      <td>400452145335749_added-11850</td>\n",
       "      <td>facebook</td>\n",
       "      <td>D:/Murgi/Facebook2023/Facebook2023/40045214533...</td>\n",
       "      <td>templateless</td>\n",
       "      <td>0bbdf5534707c708</td>\n",
       "      <td>33</td>\n",
       "      <td>always-has-been</td>\n",
       "      <td>0</td>\n",
       "      <td>1</td>\n",
       "    </tr>\n",
       "    <tr>\n",
       "      <th>327</th>\n",
       "      <td>DankMagicMemes_added-6035</td>\n",
       "      <td>facebook</td>\n",
       "      <td>D:/Murgi/Facebook2023/Facebook2023/DankMagicMe...</td>\n",
       "      <td>templateless</td>\n",
       "      <td>83f76c09f80f09d3</td>\n",
       "      <td>933</td>\n",
       "      <td>stop-it-patrick-youre-scaring-him</td>\n",
       "      <td>0</td>\n",
       "      <td>1</td>\n",
       "    </tr>\n",
       "    <tr>\n",
       "      <th>328</th>\n",
       "      <td>2022.06.11_916</td>\n",
       "      <td>reddit</td>\n",
       "      <td>C:/Users/molontay/Murgi/data/Memes2022Final2/M...</td>\n",
       "      <td>templateless</td>\n",
       "      <td>2913c36d53593795</td>\n",
       "      <td>762</td>\n",
       "      <td>ptsd-chihuahua</td>\n",
       "      <td>0</td>\n",
       "      <td>1</td>\n",
       "    </tr>\n",
       "    <tr>\n",
       "      <th>329</th>\n",
       "      <td>DankMagicMemes_added-8930</td>\n",
       "      <td>facebook</td>\n",
       "      <td>D:/Murgi/Facebook2023/Facebook2023/DankMagicMe...</td>\n",
       "      <td>templateless</td>\n",
       "      <td>c1c0893f3fc3434f</td>\n",
       "      <td>297</td>\n",
       "      <td>elon-musk-blank-tweet</td>\n",
       "      <td>0</td>\n",
       "      <td>1</td>\n",
       "    </tr>\n",
       "  </tbody>\n",
       "</table>\n",
       "<p>330 rows × 9 columns</p>\n",
       "</div>"
      ],
      "text/plain": [
       "                              id    source  \\\n",
       "0    959099244454225_added-23590  facebook   \n",
       "1    562359021251691_added-37275  facebook   \n",
       "2                 2022.10.29_846    reddit   \n",
       "3                 2021.12.15_469    reddit   \n",
       "4    959099244454225_added-13624  facebook   \n",
       "..                           ...       ...   \n",
       "325                  2019_6-7481   twitter   \n",
       "326  400452145335749_added-11850  facebook   \n",
       "327    DankMagicMemes_added-6035  facebook   \n",
       "328               2022.06.11_916    reddit   \n",
       "329    DankMagicMemes_added-8930  facebook   \n",
       "\n",
       "                                                  path  ground_truth  \\\n",
       "0    D:/Murgi/Facebook2023/Facebook2023/95909924445...  templateless   \n",
       "1    D:/Murgi/Facebook2023/Facebook2023/56235902125...  templateless   \n",
       "2    C:/Users/molontay/Murgi/data/Memes2022Final2/M...  templateless   \n",
       "3    C:/Users/molontay/Murgi/data/Memes2022Final2/M...  templateless   \n",
       "4    D:/Murgi/Facebook2023/Facebook2023/95909924445...  templateless   \n",
       "..                                                 ...           ...   \n",
       "325               D:/Murgi/Twitter2023/2019_6-7481.jpg  templateless   \n",
       "326  D:/Murgi/Facebook2023/Facebook2023/40045214533...  templateless   \n",
       "327  D:/Murgi/Facebook2023/Facebook2023/DankMagicMe...  templateless   \n",
       "328  C:/Users/molontay/Murgi/data/Memes2022Final2/M...  templateless   \n",
       "329  D:/Murgi/Facebook2023/Facebook2023/DankMagicMe...  templateless   \n",
       "\n",
       "                phash  encoded_predictions                        predictions  \\\n",
       "0    730d2df2855f3087                   57                  anime-boy-running   \n",
       "1    01b6fe1d14e3c393                  194          children-scared-of-rabbit   \n",
       "2    5da1539b314ce91e                  804                  sad-pablo-escobar   \n",
       "3    63639c893676c396                  607                     mega-rage-face   \n",
       "4    1fb4e64334c33ca6                 1020                         troll-face   \n",
       "..                ...                  ...                                ...   \n",
       "325  e38fb4466d645352                 1019                       trojan-horse   \n",
       "326  0bbdf5534707c708                   33                    always-has-been   \n",
       "327  83f76c09f80f09d3                  933  stop-it-patrick-youre-scaring-him   \n",
       "328  2913c36d53593795                  762                     ptsd-chihuahua   \n",
       "329  c1c0893f3fc3434f                  297              elon-musk-blank-tweet   \n",
       "\n",
       "     ground_truth_binary  predictions_binary  \n",
       "0                      0                   1  \n",
       "1                      0                   1  \n",
       "2                      0                   1  \n",
       "3                      0                   1  \n",
       "4                      0                   1  \n",
       "..                   ...                 ...  \n",
       "325                    0                   1  \n",
       "326                    0                   1  \n",
       "327                    0                   1  \n",
       "328                    0                   1  \n",
       "329                    0                   1  \n",
       "\n",
       "[330 rows x 9 columns]"
      ]
     },
     "execution_count": 17,
     "metadata": {},
     "output_type": "execute_result"
    }
   ],
   "source": [
    "sm_df['ground_truth_binary'] = sm_df['ground_truth'].apply(lambda x: 1 if x != 'templateless' else 0)\n",
    "sm_df['predictions_binary'] = sm_df['predictions'].apply(lambda x: 1 if x != 'templateless' else 0)\n",
    "sm_df"
   ]
  },
  {
   "cell_type": "code",
   "execution_count": 18,
   "metadata": {},
   "outputs": [
    {
     "name": "stdout",
     "output_type": "stream",
     "text": [
      "              precision    recall  f1-score   support\n",
      "\n",
      "           0       0.00      0.00      0.00       253\n",
      "           1       0.23      1.00      0.38        77\n",
      "\n",
      "    accuracy                           0.23       330\n",
      "   macro avg       0.12      0.50      0.19       330\n",
      "weighted avg       0.05      0.23      0.09       330\n",
      "\n"
     ]
    },
    {
     "name": "stderr",
     "output_type": "stream",
     "text": [
      "d:\\Murgi\\code\\memes2024\\meme-research-2024\\phash\\lib\\site-packages\\sklearn\\metrics\\_classification.py:1471: UndefinedMetricWarning: Precision and F-score are ill-defined and being set to 0.0 in labels with no predicted samples. Use `zero_division` parameter to control this behavior.\n",
      "  _warn_prf(average, modifier, msg_start, len(result))\n",
      "d:\\Murgi\\code\\memes2024\\meme-research-2024\\phash\\lib\\site-packages\\sklearn\\metrics\\_classification.py:1471: UndefinedMetricWarning: Precision and F-score are ill-defined and being set to 0.0 in labels with no predicted samples. Use `zero_division` parameter to control this behavior.\n",
      "  _warn_prf(average, modifier, msg_start, len(result))\n",
      "d:\\Murgi\\code\\memes2024\\meme-research-2024\\phash\\lib\\site-packages\\sklearn\\metrics\\_classification.py:1471: UndefinedMetricWarning: Precision and F-score are ill-defined and being set to 0.0 in labels with no predicted samples. Use `zero_division` parameter to control this behavior.\n",
      "  _warn_prf(average, modifier, msg_start, len(result))\n"
     ]
    },
    {
     "data": {
      "image/png": "[encoded data removed]",
      "text/plain": [
       "<Figure size 640x480 with 2 Axes>"
      ]
     },
     "metadata": {},
     "output_type": "display_data"
    }
   ],
   "source": [
    "from sklearn.metrics import classification_report\n",
    "# import confusion_matrix_pretty_print\n",
    "from sklearn.metrics import confusion_matrix, ConfusionMatrixDisplay\n",
    "import matplotlib.pyplot as plt\n",
    "\n",
    "print(classification_report(sm_df['ground_truth_binary'], sm_df['predictions_binary']))\n",
    "\n",
    "cm = confusion_matrix(sm_df['ground_truth_binary'], sm_df['predictions_binary'])\n",
    "disp = ConfusionMatrixDisplay(confusion_matrix=cm, display_labels=['templateless', 'templated'])\n",
    "disp.plot()\n",
    "plt.show()"
   ]
  }
 ],
 "metadata": {
  "kernelspec": {
   "display_name": "Python 3",
   "language": "python",
   "name": "python3"
  },
  "language_info": {
   "codemirror_mode": {
    "name": "ipython",
    "version": 3
   },
   "file_extension": ".py",
   "mimetype": "text/x-python",
   "name": "python",
   "nbconvert_exporter": "python",
   "pygments_lexer": "ipython3",
   "version": "3.9.13"
  },
  "orig_nbformat": 4
 },
 "nbformat": 4,
 "nbformat_minor": 2
}
