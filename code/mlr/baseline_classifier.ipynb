{
 "cells": [
  {
   "cell_type": "markdown",
   "metadata": {},
   "source": [
    "## Baseline Classifier"
   ]
  },
  {
   "cell_type": "code",
   "execution_count": 1,
   "metadata": {},
   "outputs": [
    {
     "name": "stdout",
     "output_type": "stream",
     "text": [
      "d:\\Murgi\\code\\memes2024\\meme-research-2024\n"
     ]
    },
    {
     "name": "stderr",
     "output_type": "stream",
     "text": [
      "d:\\Murgi\\code\\memes2024\\meme-research-2024\\phash\\lib\\site-packages\\IPython\\core\\magics\\osm.py:417: UserWarning: using dhist requires you to install the `pickleshare` library.\n",
      "  self.shell.db['dhist'] = compress_dhist(dhist)[-100:]\n"
     ]
    },
    {
     "data": {
      "text/plain": [
       "'d:\\\\Murgi\\\\code\\\\memes2024\\\\meme-research-2024'"
      ]
     },
     "execution_count": 1,
     "metadata": {},
     "output_type": "execute_result"
    }
   ],
   "source": [
    "%pwd\n",
    "%cd d:\\\\Murgi\\\\code\\\\memes2024\\\\meme-research-2024\n",
    "%pwd\n"
   ]
  },
  {
   "cell_type": "markdown",
   "metadata": {},
   "source": [
    "Import libs"
   ]
  },
  {
   "cell_type": "code",
   "execution_count": 17,
   "metadata": {},
   "outputs": [],
   "source": [
    "import cv2\n",
    "import numpy as np\n",
    "from matplotlib import pyplot as plt\n",
    "import pandas as pd\n",
    "from skimage import feature\n",
    "from PIL import Image\n",
    "from joblib import Parallel, delayed\n",
    "import multiprocessing\n",
    "import time\n",
    "from sklearn.preprocessing import LabelEncoder\n",
    "from sklearn.model_selection import StratifiedKFold\n",
    "from sklearn.linear_model import LogisticRegression\n",
    "from sklearn.metrics import matthews_corrcoef, cohen_kappa_score, f1_score\n",
    "import mlflow\n",
    "import constants\n",
    "import os\n"
   ]
  },
  {
   "cell_type": "markdown",
   "metadata": {},
   "source": [
    "### Load data"
   ]
  },
  {
   "cell_type": "code",
   "execution_count": 21,
   "metadata": {},
   "outputs": [
    {
     "data": {
      "text/html": [
       "<div>\n",
       "<style scoped>\n",
       "    .dataframe tbody tr th:only-of-type {\n",
       "        vertical-align: middle;\n",
       "    }\n",
       "\n",
       "    .dataframe tbody tr th {\n",
       "        vertical-align: top;\n",
       "    }\n",
       "\n",
       "    .dataframe thead th {\n",
       "        text-align: right;\n",
       "    }\n",
       "</style>\n",
       "<table border=\"1\" class=\"dataframe\">\n",
       "  <thead>\n",
       "    <tr style=\"text-align: right;\">\n",
       "      <th></th>\n",
       "      <th>id</th>\n",
       "      <th>template_name</th>\n",
       "      <th>path</th>\n",
       "      <th>phash</th>\n",
       "    </tr>\n",
       "  </thead>\n",
       "  <tbody>\n",
       "    <tr>\n",
       "      <th>0</th>\n",
       "      <td>0-days-without-lenny-simpsons</td>\n",
       "      <td>0-days-without-lenny-simpsons</td>\n",
       "      <td>D:/Memes2024/0-days-without-Lenny-Simpsons/0-d...</td>\n",
       "      <td>0fe9b236e884fc38</td>\n",
       "    </tr>\n",
       "    <tr>\n",
       "      <th>1</th>\n",
       "      <td>0-days-without-Lenny-Simpsons_23</td>\n",
       "      <td>0-days-without-lenny-simpsons</td>\n",
       "      <td>D:/Memes2024/0-days-without-Lenny-Simpsons/0-d...</td>\n",
       "      <td>07e5ba2ee806fe30</td>\n",
       "    </tr>\n",
       "    <tr>\n",
       "      <th>2</th>\n",
       "      <td>0-days-without-Lenny-Simpsons_1</td>\n",
       "      <td>0-days-without-lenny-simpsons</td>\n",
       "      <td>D:/Memes2024/0-days-without-Lenny-Simpsons/0-d...</td>\n",
       "      <td>1fed3226e804fe38</td>\n",
       "    </tr>\n",
       "    <tr>\n",
       "      <th>3</th>\n",
       "      <td>0-days-without-Lenny-Simpsons_24</td>\n",
       "      <td>0-days-without-lenny-simpsons</td>\n",
       "      <td>D:/Memes2024/0-days-without-Lenny-Simpsons/0-d...</td>\n",
       "      <td>07e1b83ee886fa38</td>\n",
       "    </tr>\n",
       "    <tr>\n",
       "      <th>4</th>\n",
       "      <td>0-days-without-Lenny-Simpsons_10</td>\n",
       "      <td>0-days-without-lenny-simpsons</td>\n",
       "      <td>D:/Memes2024/0-days-without-Lenny-Simpsons/0-d...</td>\n",
       "      <td>17e5b22ee806fe30</td>\n",
       "    </tr>\n",
       "    <tr>\n",
       "      <th>...</th>\n",
       "      <td>...</td>\n",
       "      <td>...</td>\n",
       "      <td>...</td>\n",
       "      <td>...</td>\n",
       "    </tr>\n",
       "    <tr>\n",
       "      <th>124196</th>\n",
       "      <td>skeleton-computer-84</td>\n",
       "      <td>skeleton-computer</td>\n",
       "      <td>D:/Memes2024/Skeleton-Computer/skeleton-comput...</td>\n",
       "      <td>e1e68b1929253d3d</td>\n",
       "    </tr>\n",
       "    <tr>\n",
       "      <th>124197</th>\n",
       "      <td>nick-young-178</td>\n",
       "      <td>nick-young</td>\n",
       "      <td>D:/Memes2024/Nick-Young/nick-young-178.jpg</td>\n",
       "      <td>4bd5913e14da4e55</td>\n",
       "    </tr>\n",
       "    <tr>\n",
       "      <th>124198</th>\n",
       "      <td>success-kid-original-196</td>\n",
       "      <td>success-kid-original</td>\n",
       "      <td>D:/Memes2024/Success-Kid-Original/success-kid-...</td>\n",
       "      <td>1d1d301f32c3f2e3</td>\n",
       "    </tr>\n",
       "    <tr>\n",
       "      <th>124199</th>\n",
       "      <td>Wrong-Neighboorhood-Cats_23</td>\n",
       "      <td>wrong-neighboorhood-cats</td>\n",
       "      <td>D:/Memes2024/Wrong-Neighboorhood-Cats/Wrong-Ne...</td>\n",
       "      <td>a950535053abb3bb</td>\n",
       "    </tr>\n",
       "    <tr>\n",
       "      <th>124200</th>\n",
       "      <td>Tuna-the-dog-Phteven_24</td>\n",
       "      <td>tuna-the-dog-phteven</td>\n",
       "      <td>D:/Memes2024/Tuna-the-dog-Phteven/Tuna-the-dog...</td>\n",
       "      <td>4f420398f03f7c7a</td>\n",
       "    </tr>\n",
       "  </tbody>\n",
       "</table>\n",
       "<p>124201 rows × 4 columns</p>\n",
       "</div>"
      ],
      "text/plain": [
       "                                      id                  template_name  \\\n",
       "0          0-days-without-lenny-simpsons  0-days-without-lenny-simpsons   \n",
       "1       0-days-without-Lenny-Simpsons_23  0-days-without-lenny-simpsons   \n",
       "2        0-days-without-Lenny-Simpsons_1  0-days-without-lenny-simpsons   \n",
       "3       0-days-without-Lenny-Simpsons_24  0-days-without-lenny-simpsons   \n",
       "4       0-days-without-Lenny-Simpsons_10  0-days-without-lenny-simpsons   \n",
       "...                                  ...                            ...   \n",
       "124196              skeleton-computer-84              skeleton-computer   \n",
       "124197                    nick-young-178                     nick-young   \n",
       "124198          success-kid-original-196           success-kid-original   \n",
       "124199       Wrong-Neighboorhood-Cats_23       wrong-neighboorhood-cats   \n",
       "124200           Tuna-the-dog-Phteven_24           tuna-the-dog-phteven   \n",
       "\n",
       "                                                     path             phash  \n",
       "0       D:/Memes2024/0-days-without-Lenny-Simpsons/0-d...  0fe9b236e884fc38  \n",
       "1       D:/Memes2024/0-days-without-Lenny-Simpsons/0-d...  07e5ba2ee806fe30  \n",
       "2       D:/Memes2024/0-days-without-Lenny-Simpsons/0-d...  1fed3226e804fe38  \n",
       "3       D:/Memes2024/0-days-without-Lenny-Simpsons/0-d...  07e1b83ee886fa38  \n",
       "4       D:/Memes2024/0-days-without-Lenny-Simpsons/0-d...  17e5b22ee806fe30  \n",
       "...                                                   ...               ...  \n",
       "124196  D:/Memes2024/Skeleton-Computer/skeleton-comput...  e1e68b1929253d3d  \n",
       "124197         D:/Memes2024/Nick-Young/nick-young-178.jpg  4bd5913e14da4e55  \n",
       "124198  D:/Memes2024/Success-Kid-Original/success-kid-...  1d1d301f32c3f2e3  \n",
       "124199  D:/Memes2024/Wrong-Neighboorhood-Cats/Wrong-Ne...  a950535053abb3bb  \n",
       "124200  D:/Memes2024/Tuna-the-dog-Phteven/Tuna-the-dog...  4f420398f03f7c7a  \n",
       "\n",
       "[124201 rows x 4 columns]"
      ]
     },
     "execution_count": 21,
     "metadata": {},
     "output_type": "execute_result"
    }
   ],
   "source": [
    "meme_df = pd.read_parquet(\"./data\\meme_entries.parquet\")\n",
    "meme_df"
   ]
  },
  {
   "cell_type": "markdown",
   "metadata": {},
   "source": [
    "### EDA - exploring the data"
   ]
  },
  {
   "cell_type": "markdown",
   "metadata": {},
   "source": [
    "Color Histogram"
   ]
  },
  {
   "cell_type": "code",
   "execution_count": 22,
   "metadata": {},
   "outputs": [
    {
     "name": "stdout",
     "output_type": "stream",
     "text": [
      "D:/Memes2024/0-days-without-Lenny-Simpsons/0-days-without-lenny-simpsons.png\n"
     ]
    },
    {
     "data": {
      "image/png": "[encoded data removed]",
      "text/plain": [
       "<Figure size 640x480 with 1 Axes>"
      ]
     },
     "metadata": {},
     "output_type": "display_data"
    }
   ],
   "source": [
    "\n",
    "path = meme_df.path.iloc[0]\n",
    "print(path)\n",
    "img = cv2.imread(path)\n",
    "color = ('b','g','r')\n",
    "for i, col in enumerate(color):\n",
    "    histr = cv2.calcHist([img],[i],None,[256],[0,256])\n",
    "    plt.plot(histr,color = col)\n",
    "    plt.xlim([0,256])\n",
    "plt.show()\n"
   ]
  },
  {
   "cell_type": "markdown",
   "metadata": {},
   "source": [
    "HSV Histogram"
   ]
  },
  {
   "cell_type": "code",
   "execution_count": 23,
   "metadata": {},
   "outputs": [
    {
     "data": {
      "image/png": "[encoded data removed]",
      "text/plain": [
       "<Figure size 640x480 with 1 Axes>"
      ]
     },
     "metadata": {},
     "output_type": "display_data"
    }
   ],
   "source": [
    "img = cv2.cvtColor(img, cv2.COLOR_BGR2HSV)\n",
    "color = ('r','g','b') # Changed to RGB\n",
    "for i, col in enumerate(color):\n",
    "    histr = cv2.calcHist([img],[i],None,[256],[0,256])\n",
    "    plt.plot(histr,color = col)\n",
    "    plt.xlim([0,256])\n",
    "plt.show()\n"
   ]
  },
  {
   "cell_type": "markdown",
   "metadata": {},
   "source": [
    "Grayscale Histograms:"
   ]
  },
  {
   "cell_type": "code",
   "execution_count": 24,
   "metadata": {},
   "outputs": [
    {
     "data": {
      "image/png": "[encoded data removed]",
      "text/plain": [
       "<Figure size 640x480 with 1 Axes>"
      ]
     },
     "metadata": {},
     "output_type": "display_data"
    }
   ],
   "source": [
    "img = cv2.imread(path,0)\n",
    "plt.hist(img.ravel(),256,[0,256])\n",
    "plt.show()\n"
   ]
  },
  {
   "cell_type": "markdown",
   "metadata": {},
   "source": [
    "Texture Features:"
   ]
  },
  {
   "cell_type": "code",
   "execution_count": 25,
   "metadata": {},
   "outputs": [
    {
     "data": {
      "text/plain": [
       "<BarContainer object of 28 artists>"
      ]
     },
     "execution_count": 25,
     "metadata": {},
     "output_type": "execute_result"
    },
    {
     "data": {
      "image/png": "[encoded data removed]",
      "text/plain": [
       "<Figure size 640x480 with 1 Axes>"
      ]
     },
     "metadata": {},
     "output_type": "display_data"
    }
   ],
   "source": [
    "\n",
    "# Convert the image to grayscale if it is in color\n",
    "if len(img.shape) == 3:\n",
    "    gray = cv2.cvtColor(img, cv2.COLOR_BGR2GRAY)\n",
    "else:\n",
    "    gray = img\n",
    "\n",
    "# Compute LBP features\n",
    "lbp = feature.local_binary_pattern(gray, P=24, R=8, method=\"uniform\")\n",
    "\n",
    "# Calculate the histogram\n",
    "n_points = lbp.max() + 1\n",
    "lbp_hist, _ = np.histogram(lbp, bins=np.arange(0, n_points + 3), range=(0, n_points + 2))\n",
    "\n",
    "# Normalize the histogram\n",
    "lbp_hist = lbp_hist.astype(\"float\")\n",
    "lbp_hist /= (lbp_hist.sum() + 1e-7)\n",
    "\n",
    "# Display the LBP features\n",
    "plt.bar(x=np.arange(0, n_points + 2), height=lbp_hist)"
   ]
  },
  {
   "cell_type": "markdown",
   "metadata": {},
   "source": [
    "### Combine these into a pipeline"
   ]
  },
  {
   "cell_type": "code",
   "execution_count": 26,
   "metadata": {},
   "outputs": [],
   "source": [
    "\n",
    "\n",
    "def extract_features(image_path):\n",
    "    # Check if the file is a GIF\n",
    "    if image_path.endswith('.gif') or image_path.endswith('.GIF'):\n",
    "        img = Image.open(image_path)\n",
    "        img = img.convert('RGB') # Convert to RGB\n",
    "        img = np.array(img) # Convert to NumPy array\n",
    "    else:\n",
    "        img = cv2.imread(image_path)\n",
    "        if img is None or img.size == 0:\n",
    "            print(f\"Failed to load image at path {image_path}\")\n",
    "            return None\n",
    "        img = cv2.cvtColor(img, cv2.COLOR_BGR2RGB) # Convert to standard RGB\n",
    "\n",
    "    # convert image to HSV and calculate HSV histogram\n",
    "    hsv_img = cv2.cvtColor(img, cv2.COLOR_BGR2HSV)\n",
    "    hsv_features = []\n",
    "    for i in range(3):  # for each channel\n",
    "        hist = cv2.calcHist([hsv_img], [i], None, [256], [0, 256])\n",
    "        hsv_features.extend(hist.flatten())\n",
    "\n",
    "    # convert image to grayscale and calculate grayscale histogram\n",
    "    gray = cv2.cvtColor(img, cv2.COLOR_BGR2GRAY)\n",
    "    grayscale_hist = cv2.calcHist([gray], [0], None, [256], [0, 256])\n",
    "    grayscale_features = grayscale_hist.flatten()\n",
    "\n",
    "    # calculate LBP features\n",
    "    lbp = feature.local_binary_pattern(gray, P=24, R=8, method=\"uniform\")\n",
    "    n_points = int(lbp.max() + 1)\n",
    "    lbp_hist, _ = np.histogram(lbp.ravel(), bins=np.arange(0, n_points + 3), range=(0, n_points + 2))\n",
    "    lbp_features = lbp_hist.astype(\"float\")\n",
    "    lbp_features /= (lbp_features.sum() + 1e-7)  # normalize histogram\n",
    "\n",
    "    # Check the length of the LBP features and append a zero if necessary, to have a consistent length of features in all images\n",
    "    if len(lbp_features) == 27:\n",
    "        lbp_features = np.append(lbp_features, 0)\n",
    "\n",
    "    # concatenate all features into a single feature vector\n",
    "    feature_vector = np.hstack([hsv_features, grayscale_features, lbp_features])\n",
    "\n",
    "    # Debug only:\n",
    "    # print(\"HSV features shape:\", len(hsv_features))\n",
    "    # print(\"Grayscale features shape:\", len(grayscale_features))\n",
    "    # print(\"LBP features shape:\", len(lbp_features))\n",
    "\n",
    "    return feature_vector\n",
    "\n",
    "# example usage:\n",
    "# image_path = 'meme.jpg'\n",
    "# features = extract_features(image_path)"
   ]
  },
  {
   "cell_type": "markdown",
   "metadata": {},
   "source": [
    "### Preprocessing"
   ]
  },
  {
   "cell_type": "code",
   "execution_count": 27,
   "metadata": {},
   "outputs": [
    {
     "data": {
      "text/plain": [
       "124201"
      ]
     },
     "execution_count": 27,
     "metadata": {},
     "output_type": "execute_result"
    }
   ],
   "source": [
    "image_paths = meme_df['path'].tolist()\n",
    "len(image_paths)"
   ]
  },
  {
   "cell_type": "markdown",
   "metadata": {},
   "source": [
    "Extract features from the dataset"
   ]
  },
  {
   "cell_type": "code",
   "execution_count": 32,
   "metadata": {},
   "outputs": [
    {
     "data": {
      "application/vnd.jupyter.widget-view+json": {
       "model_id": "b8e6b52357a8423b91e2d5e64d1f4d62",
       "version_major": 2,
       "version_minor": 0
      },
      "text/plain": [
       "  0%|          | 0/124201 [00:00<?, ?it/s]"
      ]
     },
     "metadata": {},
     "output_type": "display_data"
    },
    {
     "name": "stdout",
     "output_type": "stream",
     "text": [
      "Time taken to extract features from 124201 images: 2573.96 seconds\n"
     ]
    }
   ],
   "source": [
    "from tqdm.contrib.concurrent import thread_map  # or thread_map\n",
    "\n",
    "# Get number of cores\n",
    "num_cores = multiprocessing.cpu_count() - 1\n",
    "\n",
    "# test_image_paths = image_paths[:1]\n",
    "\n",
    "# Use joblib to parallelize feature extraction\n",
    "start = time.time()\n",
    "features = thread_map(extract_features, image_paths, max_workers=num_cores)\n",
    "end = time.time()\n",
    "print(f\"Time taken to extract features from {len(image_paths)} images: {end-start:.2f} seconds\")\n"
   ]
  },
  {
   "cell_type": "code",
   "execution_count": 33,
   "metadata": {},
   "outputs": [
    {
     "data": {
      "text/plain": [
       "(124201, 1052)"
      ]
     },
     "execution_count": 33,
     "metadata": {},
     "output_type": "execute_result"
    }
   ],
   "source": [
    "features = np.array(features)\n",
    "features.shape"
   ]
  },
  {
   "cell_type": "code",
   "execution_count": 34,
   "metadata": {},
   "outputs": [],
   "source": [
    "# Save features as a numpy array\n",
    "np.save('baseline_features.npy', features)"
   ]
  },
  {
   "cell_type": "code",
   "execution_count": 35,
   "metadata": {},
   "outputs": [],
   "source": [
    "features = np.load('baseline_features.npy')"
   ]
  },
  {
   "cell_type": "code",
   "execution_count": 40,
   "metadata": {},
   "outputs": [
    {
     "data": {
      "text/plain": [
       "(124201, 1052)"
      ]
     },
     "execution_count": 40,
     "metadata": {},
     "output_type": "execute_result"
    }
   ],
   "source": [
    "features.shape"
   ]
  },
  {
   "cell_type": "code",
   "execution_count": 41,
   "metadata": {},
   "outputs": [],
   "source": [
    "X = features\n",
    "X = X.astype('float32')\n",
    "\n",
    "labelencoder = LabelEncoder()\n",
    "meme_df['template_id'] = labelencoder.fit_transform(meme_df['template_name'])\n",
    "\n",
    "y = meme_df['template_id'].copy()\n"
   ]
  },
  {
   "cell_type": "markdown",
   "metadata": {},
   "source": [
    "### Train a classifier"
   ]
  },
  {
   "cell_type": "code",
   "execution_count": 37,
   "metadata": {},
   "outputs": [],
   "source": [
    "mlflow.set_tracking_uri('https://dagshub.com/levente-murgas/meme-research-2024.mlflow')\n",
    "# # Recommended to define as environment variables\n",
    "os.environ['MLFLOW_TRACKING_USERNAME'] = constants.MLFLOW_TRACKING_USERNAME\n",
    "os.environ['MLFLOW_TRACKING_PASSWORD'] = constants.MLFLOW_TRACKING_PASSWORD"
   ]
  },
  {
   "cell_type": "code",
   "execution_count": 38,
   "metadata": {},
   "outputs": [
    {
     "name": "stdout",
     "output_type": "stream",
     "text": [
      "9\n"
     ]
    }
   ],
   "source": [
    "def get_experiment_id(name):\n",
    "    exp = mlflow.get_experiment_by_name(name)\n",
    "    if exp is None:\n",
    "      exp_id = mlflow.create_experiment(name)\n",
    "      return exp_id\n",
    "    return exp.experiment_id\n",
    "\n",
    "\n",
    "exp_id = get_experiment_id(f\"mlr_cross_val\")\n",
    "print(exp_id)"
   ]
  },
  {
   "cell_type": "code",
   "execution_count": 44,
   "metadata": {},
   "outputs": [
    {
     "name": "stderr",
     "output_type": "stream",
     "text": [
      "Successfully registered model 'mlr_model'.\n",
      "2024/04/23 15:01:37 INFO mlflow.store.model_registry.abstract_store: Waiting up to 300 seconds for model version to finish creation. Model name: mlr_model, version 1\n",
      "Created version '1' of model 'mlr_model'.\n",
      "Registered model 'mlr_model' already exists. Creating a new version of this model...\n",
      "2024/04/23 15:33:46 INFO mlflow.store.model_registry.abstract_store: Waiting up to 300 seconds for model version to finish creation. Model name: mlr_model, version 2\n",
      "Created version '2' of model 'mlr_model'.\n",
      "Registered model 'mlr_model' already exists. Creating a new version of this model...\n",
      "2024/04/23 16:02:46 INFO mlflow.store.model_registry.abstract_store: Waiting up to 300 seconds for model version to finish creation. Model name: mlr_model, version 3\n",
      "Created version '3' of model 'mlr_model'.\n",
      "Registered model 'mlr_model' already exists. Creating a new version of this model...\n",
      "2024/04/23 16:32:44 INFO mlflow.store.model_registry.abstract_store: Waiting up to 300 seconds for model version to finish creation. Model name: mlr_model, version 4\n",
      "Created version '4' of model 'mlr_model'.\n",
      "Registered model 'mlr_model' already exists. Creating a new version of this model...\n",
      "2024/04/23 17:02:31 INFO mlflow.store.model_registry.abstract_store: Waiting up to 300 seconds for model version to finish creation. Model name: mlr_model, version 5\n",
      "Created version '5' of model 'mlr_model'.\n"
     ]
    }
   ],
   "source": [
    "skf = StratifiedKFold(n_splits=5, random_state=42, shuffle=True)\n",
    "\n",
    "mcc_scores = []\n",
    "kappa_scores = []\n",
    "f1_scores = []\n",
    "\n",
    "for train_index, test_index in skf.split(X, y):\n",
    "    X_train, X_test = X[train_index], X[test_index]\n",
    "    y_train, y_test = y[train_index], y[test_index]\n",
    "\n",
    "    clf= LogisticRegression(multi_class='multinomial', class_weight='balanced', solver='lbfgs', random_state=42, n_jobs=-1)\n",
    "    \n",
    "    with mlflow.start_run(experiment_id=exp_id):\n",
    "        clf.fit(X_train, y_train)\n",
    "        y_pred = clf.predict(X_test)\n",
    "        mcc = matthews_corrcoef(y_test, y_pred)\n",
    "        kappa = cohen_kappa_score(y_test, y_pred)\n",
    "        f1 =  f1_score(y_test, y_pred, average='weighted')\n",
    "        mcc_scores.append(mcc)\n",
    "        kappa_scores.append(kappa)\n",
    "        f1_scores.append(f1)\n",
    "        mlflow.log_metric('matthews_corrcoef', mcc)\n",
    "        mlflow.log_metric('cohen_kappa_score', kappa)\n",
    "        mlflow.log_metric('f1_score', f1)\n",
    "        mlflow.sklearn.log_model(clf, 'mlr_model', registered_model_name='mlr_model')\n",
    "\n",
    "with mlflow.start_run(experiment_id=exp_id):\n",
    "    mlflow.log_metric('mean_mcc', np.mean(mcc_scores))\n",
    "    mlflow.log_metric('mean_kappa', np.mean(kappa_scores))\n",
    "    mlflow.log_metric('mean_f1', np.mean(f1_scores))\n",
    "    mlflow.set_tag('cross val results', 'MultinomialLogisticRegression')"
   ]
  },
  {
   "cell_type": "markdown",
   "metadata": {},
   "source": [
    "-----"
   ]
  },
  {
   "cell_type": "markdown",
   "metadata": {},
   "source": [
    "Define hyperparameters"
   ]
  },
  {
   "cell_type": "code",
   "execution_count": null,
   "metadata": {},
   "outputs": [],
   "source": [
    "crange = [0.0, 0.0001, 0.001, 0.01, 0.1, 1.0]\n",
    "hyperparam_grid = { \"solver\": [\"newton-cg\", \"lbfgs\", \"sag\", \"saga\"]\n",
    "                   ,\"C\": crange\n",
    "                   ,\"fit_intercept\": [True, False]}"
   ]
  },
  {
   "cell_type": "markdown",
   "metadata": {},
   "source": [
    "Hyperparameter tuning with GridSearchCV"
   ]
  },
  {
   "cell_type": "code",
   "execution_count": null,
   "metadata": {},
   "outputs": [],
   "source": [
    "from sklearn.model_selection import GridSearchCV\n",
    "\n",
    "# Initialize and train the logistic regression model\n",
    "\n",
    "# Define evaluation procedure with GridSearchCV\n",
    "grid = GridSearchCV(clf, hyperparam_grid, cv=5, scoring='f1_weighted', n_jobs=-3, verbose=2)\n",
    "\n",
    "# Train the model\n",
    "grid.fit(X_train, y_train)\n",
    "\n",
    "print(f'Best score: {grid.best_score_} with param: {grid.best_params_}')\n",
    "\n",
    "# Get the best model\n",
    "clf = grid.best_estimator_"
   ]
  },
  {
   "cell_type": "code",
   "execution_count": 17,
   "metadata": {},
   "outputs": [
    {
     "name": "stderr",
     "output_type": "stream",
     "text": [
      "c:\\Users\\Murgi\\AppData\\Local\\Programs\\Python\\Python39\\lib\\site-packages\\sklearn\\linear_model\\_logistic.py:458: ConvergenceWarning: lbfgs failed to converge (status=1):\n",
      "STOP: TOTAL NO. of ITERATIONS REACHED LIMIT.\n",
      "\n",
      "Increase the number of iterations (max_iter) or scale the data as shown in:\n",
      "    https://scikit-learn.org/stable/modules/preprocessing.html\n",
      "Please also refer to the documentation for alternative solver options:\n",
      "    https://scikit-learn.org/stable/modules/linear_model.html#logistic-regression\n",
      "  n_iter_i = _check_optimize_result(\n"
     ]
    },
    {
     "data": {
      "text/html": [
       "<style>#sk-container-id-1 {color: black;background-color: white;}#sk-container-id-1 pre{padding: 0;}#sk-container-id-1 div.sk-toggleable {background-color: white;}#sk-container-id-1 label.sk-toggleable__label {cursor: pointer;display: block;width: 100%;margin-bottom: 0;padding: 0.3em;box-sizing: border-box;text-align: center;}#sk-container-id-1 label.sk-toggleable__label-arrow:before {content: \"▸\";float: left;margin-right: 0.25em;color: #696969;}#sk-container-id-1 label.sk-toggleable__label-arrow:hover:before {color: black;}#sk-container-id-1 div.sk-estimator:hover label.sk-toggleable__label-arrow:before {color: black;}#sk-container-id-1 div.sk-toggleable__content {max-height: 0;max-width: 0;overflow: hidden;text-align: left;background-color: #f0f8ff;}#sk-container-id-1 div.sk-toggleable__content pre {margin: 0.2em;color: black;border-radius: 0.25em;background-color: #f0f8ff;}#sk-container-id-1 input.sk-toggleable__control:checked~div.sk-toggleable__content {max-height: 200px;max-width: 100%;overflow: auto;}#sk-container-id-1 input.sk-toggleable__control:checked~label.sk-toggleable__label-arrow:before {content: \"▾\";}#sk-container-id-1 div.sk-estimator input.sk-toggleable__control:checked~label.sk-toggleable__label {background-color: #d4ebff;}#sk-container-id-1 div.sk-label input.sk-toggleable__control:checked~label.sk-toggleable__label {background-color: #d4ebff;}#sk-container-id-1 input.sk-hidden--visually {border: 0;clip: rect(1px 1px 1px 1px);clip: rect(1px, 1px, 1px, 1px);height: 1px;margin: -1px;overflow: hidden;padding: 0;position: absolute;width: 1px;}#sk-container-id-1 div.sk-estimator {font-family: monospace;background-color: #f0f8ff;border: 1px dotted black;border-radius: 0.25em;box-sizing: border-box;margin-bottom: 0.5em;}#sk-container-id-1 div.sk-estimator:hover {background-color: #d4ebff;}#sk-container-id-1 div.sk-parallel-item::after {content: \"\";width: 100%;border-bottom: 1px solid gray;flex-grow: 1;}#sk-container-id-1 div.sk-label:hover label.sk-toggleable__label {background-color: #d4ebff;}#sk-container-id-1 div.sk-serial::before {content: \"\";position: absolute;border-left: 1px solid gray;box-sizing: border-box;top: 0;bottom: 0;left: 50%;z-index: 0;}#sk-container-id-1 div.sk-serial {display: flex;flex-direction: column;align-items: center;background-color: white;padding-right: 0.2em;padding-left: 0.2em;position: relative;}#sk-container-id-1 div.sk-item {position: relative;z-index: 1;}#sk-container-id-1 div.sk-parallel {display: flex;align-items: stretch;justify-content: center;background-color: white;position: relative;}#sk-container-id-1 div.sk-item::before, #sk-container-id-1 div.sk-parallel-item::before {content: \"\";position: absolute;border-left: 1px solid gray;box-sizing: border-box;top: 0;bottom: 0;left: 50%;z-index: -1;}#sk-container-id-1 div.sk-parallel-item {display: flex;flex-direction: column;z-index: 1;position: relative;background-color: white;}#sk-container-id-1 div.sk-parallel-item:first-child::after {align-self: flex-end;width: 50%;}#sk-container-id-1 div.sk-parallel-item:last-child::after {align-self: flex-start;width: 50%;}#sk-container-id-1 div.sk-parallel-item:only-child::after {width: 0;}#sk-container-id-1 div.sk-dashed-wrapped {border: 1px dashed gray;margin: 0 0.4em 0.5em 0.4em;box-sizing: border-box;padding-bottom: 0.4em;background-color: white;}#sk-container-id-1 div.sk-label label {font-family: monospace;font-weight: bold;display: inline-block;line-height: 1.2em;}#sk-container-id-1 div.sk-label-container {text-align: center;}#sk-container-id-1 div.sk-container {/* jupyter's `normalize.less` sets `[hidden] { display: none; }` but bootstrap.min.css set `[hidden] { display: none !important; }` so we also need the `!important` here to be able to override the default hidden behavior on the sphinx rendered scikit-learn.org. See: https://github.com/scikit-learn/scikit-learn/issues/21755 */display: inline-block !important;position: relative;}#sk-container-id-1 div.sk-text-repr-fallback {display: none;}</style><div id=\"sk-container-id-1\" class=\"sk-top-container\"><div class=\"sk-text-repr-fallback\"><pre>LogisticRegression(class_weight=&#x27;balanced&#x27;, multi_class=&#x27;multinomial&#x27;,\n",
       "                   random_state=42)</pre><b>In a Jupyter environment, please rerun this cell to show the HTML representation or trust the notebook. <br />On GitHub, the HTML representation is unable to render, please try loading this page with nbviewer.org.</b></div><div class=\"sk-container\" hidden><div class=\"sk-item\"><div class=\"sk-estimator sk-toggleable\"><input class=\"sk-toggleable__control sk-hidden--visually\" id=\"sk-estimator-id-1\" type=\"checkbox\" checked><label for=\"sk-estimator-id-1\" class=\"sk-toggleable__label sk-toggleable__label-arrow\">LogisticRegression</label><div class=\"sk-toggleable__content\"><pre>LogisticRegression(class_weight=&#x27;balanced&#x27;, multi_class=&#x27;multinomial&#x27;,\n",
       "                   random_state=42)</pre></div></div></div></div></div>"
      ],
      "text/plain": [
       "LogisticRegression(class_weight='balanced', multi_class='multinomial',\n",
       "                   random_state=42)"
      ]
     },
     "execution_count": 17,
     "metadata": {},
     "output_type": "execute_result"
    }
   ],
   "source": [
    "# Compute MCC, Kappa, and F1 Score on the test set\n",
    "clf= LogisticRegression(multi_class='multinomial', class_weight='balanced', solver='lbfgs', random_state=42)\n",
    "\n",
    "clf.fit(X_train, y_train)"
   ]
  },
  {
   "cell_type": "code",
   "execution_count": 19,
   "metadata": {},
   "outputs": [],
   "source": [
    "# Split a numpy array to chunks\n",
    "def split_arr_to_chunks(array, chunk_size):\n",
    "    return np.split(array, np.arange(chunk_size, len(array), chunk_size))\n",
    "\n",
    "def split_df_to_chunks(df, chunk_size):\n",
    "    num_rows = len(df)\n",
    "    num_batches = (num_rows + chunk_size - 1) // chunk_size\n",
    "    \n",
    "    # Create a list of DataFrames, each with batch_size number of rows\n",
    "    batches = [df[i*chunk_size:(i+1)*chunk_size] for i in range(num_batches)]\n",
    "    \n",
    "    return batches"
   ]
  },
  {
   "cell_type": "code",
   "execution_count": 20,
   "metadata": {},
   "outputs": [
    {
     "name": "stderr",
     "output_type": "stream",
     "text": [
      "Evaluating the model on the test set: 100%|██████████| 616/616 [02:00<00:00,  5.10it/s]\n"
     ]
    },
    {
     "name": "stdout",
     "output_type": "stream",
     "text": [
      "{'matthews_corrcoef': 0.09025981594760468, 'cohen_kappa': 0.09023841094751872, 'f1_score': 0.07527276798215861}\n"
     ]
    }
   ],
   "source": [
    "# Initialize variables to keep track of predictions and true labels\n",
    "y_test_all = np.array([])\n",
    "y_predicted_all = np.array([])\n",
    "\n",
    "# Evaluate on the test set in chunks\n",
    "X_test_chunks = split_arr_to_chunks(X_test, 500)\n",
    "y_test_chunks = split_df_to_chunks(y_test, 500)\n",
    "\n",
    "for X_test_chunk, y_test_chunk in tqdm(zip(X_test_chunks, y_test_chunks), total=len(X_test_chunks), desc=\"Evaluating the model on the test set\"):\n",
    "    y_predicted = clf.predict(X_test_chunk)\n",
    "    y_test_all = np.concatenate([y_test_all, y_test_chunk])\n",
    "    y_predicted_all = np.concatenate([y_predicted_all, y_predicted])\n",
    "\n",
    "\n",
    "# Compute Matthews correlation coefficient\n",
    "mcc = matthews_corrcoef(y_test_all, y_predicted_all)\n",
    "\n",
    "# Compute Cohen's Kappa\n",
    "kappa = cohen_kappa_score(y_test_all, y_predicted_all)\n",
    "\n",
    "# Compute F1 Score\n",
    "f1 = f1_score(y_test_all, y_predicted_all, average='weighted')\n",
    "\n",
    "scores = {'matthews_corrcoef': mcc, 'cohen_kappa': kappa, 'f1_score': f1}\n",
    "print(scores)"
   ]
  },
  {
   "cell_type": "code",
   "execution_count": 23,
   "metadata": {},
   "outputs": [],
   "source": [
    "import json\n",
    "\n",
    "with open(\"C:/Users/Murgi/Documents/GitHub/meme_research/outputs/metrics/baseline_scores.json\", \"w\") as f:\n",
    "    json.dump(scores, f)"
   ]
  }
 ],
 "metadata": {
  "kernelspec": {
   "display_name": "Python 3",
   "language": "python",
   "name": "python3"
  },
  "language_info": {
   "codemirror_mode": {
    "name": "ipython",
    "version": 3
   },
   "file_extension": ".py",
   "mimetype": "text/x-python",
   "name": "python",
   "nbconvert_exporter": "python",
   "pygments_lexer": "ipython3",
   "version": "3.9.13"
  },
  "orig_nbformat": 4
 },
 "nbformat": 4,
 "nbformat_minor": 2
}
