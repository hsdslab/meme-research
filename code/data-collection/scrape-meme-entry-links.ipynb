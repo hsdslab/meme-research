{
 "cells": [
  {
   "cell_type": "code",
   "execution_count": null,
   "metadata": {},
   "outputs": [],
   "source": [
    "import requests\n",
    "from bs4 import BeautifulSoup\n",
    "import os\n",
    "import pandas as pd"
   ]
  },
  {
   "cell_type": "code",
   "execution_count": null,
   "metadata": {},
   "outputs": [],
   "source": [
    "def get_template_links(index, headers={'User-Agent': 'Mozilla/5.0'}):\n",
    "    meme_list_link = 'https://imgflip.com/memetemplates?page='\n",
    "    page = requests.get(meme_list_link + str(index), headers=headers)\n",
    "    soup = BeautifulSoup(page.content, 'html.parser')\n",
    "    # find all elements with class \"mt-box\"\n",
    "    link_elements = soup.find_all('a', class_='mt-caption l but')\n",
    "    links = [link_element.get('href') for link_element in link_elements]\n",
    "    swapped_links = []\n",
    "    for link in links:\n",
    "        start_idx = link.find('memegenerator')\n",
    "        end_idx = start_idx + len('memegenerator')\n",
    "        # change 'memegenerator' to 'meme'\n",
    "        link = link[:start_idx] + 'meme' + link[end_idx:]\n",
    "        swapped_links.append(link)\n",
    "\n",
    "    return swapped_links\n",
    "\n",
    "print(get_template_links(10000))"
   ]
  },
  {
   "cell_type": "code",
   "execution_count": null,
   "metadata": {},
   "outputs": [],
   "source": [
    "import random\n",
    "import time\n",
    "\n",
    "headers = {\n",
    "    \"User-Agent\": \"Mozilla/5.0 (Windows NT 10.0; Win64; x64) AppleWebKit/537.36 (KHTML, like Gecko) Chrome/58.0.3029.110 Safari/537.3\"\n",
    "}\n",
    "\n",
    "meme_template_links = []\n",
    "\n",
    "last_page = False\n",
    "index = 1\n",
    "while not last_page:\n",
    "    print(f\"Getting links from page {index}\")\n",
    "    random_number = random.random()\n",
    "    time.sleep(random_number)\n",
    "    links = get_template_links(index, headers)\n",
    "    if len(links) == 0:\n",
    "        last_page = True\n",
    "    meme_template_links += links\n",
    "    index += 1\n",
    "\n",
    "\n",
    "print(len(meme_template_links))"
   ]
  },
  {
   "cell_type": "code",
   "execution_count": null,
   "metadata": {},
   "outputs": [],
   "source": [
    "print(len(set(meme_template_links)))"
   ]
  },
  {
   "cell_type": "code",
   "execution_count": null,
   "metadata": {},
   "outputs": [],
   "source": [
    "print(meme_template_links)\n",
    "\n",
    "meme_template_links = list(set(meme_template_links))\n",
    "\n",
    "meme_template_dict = {link.split('/')[-1]: link for link in meme_template_links}\n",
    "print(len(meme_template_dict))"
   ]
  },
  {
   "cell_type": "code",
   "execution_count": null,
   "metadata": {},
   "outputs": [],
   "source": [
    "template_df = pd.DataFrame(meme_template_dict.items(), columns=['template_name', 'template_link'])\n",
    "template_df.to_parquet('../data/meme_template_links.parquet')"
   ]
  },
  {
   "cell_type": "code",
   "execution_count": null,
   "metadata": {},
   "outputs": [],
   "source": [
    "def download_template_info(soup: BeautifulSoup):\n",
    "    tags_element = soup.find('div', class_='alt-names')\n",
    "    if not tags_element:\n",
    "        return None\n",
    "    else:\n",
    "        tags_string = tags_element.text\n",
    "    if tags_string.startswith('aka:'):\n",
    "        tags_string = tags_string[4:]\n",
    "    tags = tags_string.split(', ')\n",
    "    return tags\n",
    "\n",
    "# links = get_template_links(2)\n",
    "# print(links[0])\n",
    "# full_link = 'https://imgflip.com' + links[0]\n",
    "# print(full_link)\n",
    "\n",
    "# page = requests.get(full_link)\n",
    "# soup = BeautifulSoup(page.content, 'html.parser')\n",
    "# print(download_template_info(soup))\n",
    "    "
   ]
  },
  {
   "cell_type": "code",
   "execution_count": null,
   "metadata": {},
   "outputs": [],
   "source": [
    "import time\n",
    "\n",
    "def download_template_gallery(template_name: str, link: str, dest_folder='../test-folder'):\n",
    "    # create destination folder if it does not exist\n",
    "    template_folder = os.path.join(dest_folder, template_name)\n",
    "    if not os.path.exists(template_folder):\n",
    "        os.makedirs(template_folder)\n",
    "    full_link = 'https://imgflip.com' + link\n",
    "    meme_entries =  {'id': [],'template_name':[], 'image_link': [], 'path': []}\n",
    "    \n",
    "    index = 1\n",
    "    img_counter = 0\n",
    "    no_image_left = False\n",
    "    while (not no_image_left) and (img_counter < 100):\n",
    "        print('Downloading page:', index)\n",
    "        random_number = random.random() * 2\n",
    "        time.sleep(random_number)\n",
    "        page = requests.get(full_link + '?page=' + str(index))\n",
    "        if page.status_code != 200:\n",
    "            raise Exception('Error:', page.status_code)\n",
    "        soup = BeautifulSoup(page.content, 'html.parser')\n",
    "        if index == 1:\n",
    "            tags = download_template_info(soup)\n",
    "        img_elements = soup.find_all('img', class_='base-img')\n",
    "        if len(img_elements) == 0:\n",
    "            no_image_left = True\n",
    "        else:\n",
    "            for img in img_elements:\n",
    "                img_src = img.get('src')\n",
    "                img_extension = img_src.split('.')[-1]\n",
    "                img_counter += 1\n",
    "                meme_entries['image_link'].append(img_src)\n",
    "                id = template_name + '_' + str(img_counter)\n",
    "                meme_entries['id'].append(id)\n",
    "                meme_entries['template_name'].append(template_name)\n",
    "                # save image from img_src\n",
    "                img_data = requests.get('https:'+img_src).content\n",
    "                path = os.path.join(template_folder, id + '.' + img_extension)\n",
    "                meme_entries['path'].append(path)\n",
    "                with open(path, 'wb') as handler:\n",
    "                    handler.write(img_data)\n",
    "                          \n",
    "        index += 1\n",
    "    return meme_entries, tags"
   ]
  },
  {
   "cell_type": "markdown",
   "metadata": {},
   "source": [
    "Remove any GIF templates, that might have been added by mistake."
   ]
  },
  {
   "cell_type": "code",
   "execution_count": null,
   "metadata": {},
   "outputs": [],
   "source": [
    "template_df = template_df[~template_df['template_link'].str.contains('gif-maker')]\n",
    "template_df.reset_index(drop=True, inplace=True)\n",
    "template_df"
   ]
  },
  {
   "cell_type": "markdown",
   "metadata": {},
   "source": [
    "Scrape all the memes"
   ]
  },
  {
   "cell_type": "code",
   "execution_count": null,
   "metadata": {},
   "outputs": [],
   "source": [
    "import time\n",
    "import random \n",
    "\n",
    "dest_folder = 'D:/Memes2024'\n",
    "\n",
    "# create dict from template_df's template_name and template_link columns\n",
    "meme_template_dict = template_df.set_index('template_name')['template_link'].to_dict()\n",
    "meme_template_dict\n",
    "\n",
    "def download_memes(template_link_dict, template_df, dest_folder, start_index=0):\n",
    "    for idx, (template_name, link) in tqdm(enumerate(template_link_dict.items()), total=len(template_link_dict)):\n",
    "        if idx < start_index:\n",
    "            continue\n",
    "        print('Downloading: ', template_name)\n",
    "        _, tags = download_template_gallery(template_name, link, dest_folder)\n",
    "        template_df.loc[template_df['template_name'] == template_name, 'tags'] = str(tags)\n",
    "\n",
    "def download_specific_meme_with_new_name(link, template_df, dest_folder, new_template_name):\n",
    "    _, tags = download_template_gallery(new_template_name, link, dest_folder)\n",
    "    template_df.loc[template_df['template_link'] == link, 'template_name'] = new_template_name\n",
    "\n",
    "# download_memes(meme_template_dict, template_df, dest_folder, start_index=0)\n",
    "download_specific_meme_with_new_name('/meme/39524143/donald-trump', template_df, dest_folder, 'donald-trump-2')\n",
    "\n"
   ]
  },
  {
   "cell_type": "markdown",
   "metadata": {},
   "source": [
    "Delete any folders that are empty"
   ]
  },
  {
   "cell_type": "code",
   "execution_count": null,
   "metadata": {},
   "outputs": [],
   "source": [
    "import os\n",
    "\n",
    "def find_empty_folders(directory):\n",
    "    empty_folders = []\n",
    "    for root, dirs, files in os.walk(directory):\n",
    "        if not dirs and not files:\n",
    "            empty_folders.append(root)\n",
    "    return empty_folders\n",
    "\n",
    "empty_folders = find_empty_folders('D:/Memes2024')\n",
    "print(empty_folders)\n",
    "\n",
    "def delete_empty_folders(empty_folders):\n",
    "    for folder in empty_folders:\n",
    "        os.rmdir(folder)\n",
    "\n",
    "delete_empty_folders(empty_folders)\n",
    "\n",
    "empty_folders = find_empty_folders('D:/Memes2024')\n",
    "print(len(empty_folders))\n"
   ]
  },
  {
   "cell_type": "markdown",
   "metadata": {},
   "source": [
    "Create a dataframe that keeps track of each meme, its template and the filepaths of the image"
   ]
  },
  {
   "cell_type": "code",
   "execution_count": 3,
   "metadata": {},
   "outputs": [
    {
     "data": {
      "text/html": [
       "<div>\n",
       "<style scoped>\n",
       "    .dataframe tbody tr th:only-of-type {\n",
       "        vertical-align: middle;\n",
       "    }\n",
       "\n",
       "    .dataframe tbody tr th {\n",
       "        vertical-align: top;\n",
       "    }\n",
       "\n",
       "    .dataframe thead th {\n",
       "        text-align: right;\n",
       "    }\n",
       "</style>\n",
       "<table border=\"1\" class=\"dataframe\">\n",
       "  <thead>\n",
       "    <tr style=\"text-align: right;\">\n",
       "      <th></th>\n",
       "      <th>id</th>\n",
       "      <th>template_name</th>\n",
       "      <th>path</th>\n",
       "    </tr>\n",
       "  </thead>\n",
       "  <tbody>\n",
       "    <tr>\n",
       "      <th>0</th>\n",
       "      <td>I-dont-want-to-play-with-you-anymore_75</td>\n",
       "      <td>i-dont-want-to-play-with-you-anymore</td>\n",
       "      <td>/home/hsdslab/murgi/Memes2024/I-dont-want-to-p...</td>\n",
       "    </tr>\n",
       "    <tr>\n",
       "      <th>1</th>\n",
       "      <td>I-dont-want-to-play-with-you-anymore_101</td>\n",
       "      <td>i-dont-want-to-play-with-you-anymore</td>\n",
       "      <td>/home/hsdslab/murgi/Memes2024/I-dont-want-to-p...</td>\n",
       "    </tr>\n",
       "    <tr>\n",
       "      <th>2</th>\n",
       "      <td>I-dont-want-to-play-with-you-anymore_37</td>\n",
       "      <td>i-dont-want-to-play-with-you-anymore</td>\n",
       "      <td>/home/hsdslab/murgi/Memes2024/I-dont-want-to-p...</td>\n",
       "    </tr>\n",
       "    <tr>\n",
       "      <th>3</th>\n",
       "      <td>I-dont-want-to-play-with-you-anymore_1</td>\n",
       "      <td>i-dont-want-to-play-with-you-anymore</td>\n",
       "      <td>/home/hsdslab/murgi/Memes2024/I-dont-want-to-p...</td>\n",
       "    </tr>\n",
       "    <tr>\n",
       "      <th>4</th>\n",
       "      <td>I-dont-want-to-play-with-you-anymore_39</td>\n",
       "      <td>i-dont-want-to-play-with-you-anymore</td>\n",
       "      <td>/home/hsdslab/murgi/Memes2024/I-dont-want-to-p...</td>\n",
       "    </tr>\n",
       "    <tr>\n",
       "      <th>...</th>\n",
       "      <td>...</td>\n",
       "      <td>...</td>\n",
       "      <td>...</td>\n",
       "    </tr>\n",
       "    <tr>\n",
       "      <th>124203</th>\n",
       "      <td>Hello-My-Name-Is_7</td>\n",
       "      <td>hello-my-name-is</td>\n",
       "      <td>/home/hsdslab/murgi/Memes2024/Hello-My-Name-Is...</td>\n",
       "    </tr>\n",
       "    <tr>\n",
       "      <th>124204</th>\n",
       "      <td>Hello-My-Name-Is_26</td>\n",
       "      <td>hello-my-name-is</td>\n",
       "      <td>/home/hsdslab/murgi/Memes2024/Hello-My-Name-Is...</td>\n",
       "    </tr>\n",
       "    <tr>\n",
       "      <th>124205</th>\n",
       "      <td>Hello-My-Name-Is_5</td>\n",
       "      <td>hello-my-name-is</td>\n",
       "      <td>/home/hsdslab/murgi/Memes2024/Hello-My-Name-Is...</td>\n",
       "    </tr>\n",
       "    <tr>\n",
       "      <th>124206</th>\n",
       "      <td>Hello-My-Name-Is_2</td>\n",
       "      <td>hello-my-name-is</td>\n",
       "      <td>/home/hsdslab/murgi/Memes2024/Hello-My-Name-Is...</td>\n",
       "    </tr>\n",
       "    <tr>\n",
       "      <th>124207</th>\n",
       "      <td>Hello-My-Name-Is_28</td>\n",
       "      <td>hello-my-name-is</td>\n",
       "      <td>/home/hsdslab/murgi/Memes2024/Hello-My-Name-Is...</td>\n",
       "    </tr>\n",
       "  </tbody>\n",
       "</table>\n",
       "<p>124208 rows × 3 columns</p>\n",
       "</div>"
      ],
      "text/plain": [
       "                                              id  \\\n",
       "0        I-dont-want-to-play-with-you-anymore_75   \n",
       "1       I-dont-want-to-play-with-you-anymore_101   \n",
       "2        I-dont-want-to-play-with-you-anymore_37   \n",
       "3         I-dont-want-to-play-with-you-anymore_1   \n",
       "4        I-dont-want-to-play-with-you-anymore_39   \n",
       "...                                          ...   \n",
       "124203                        Hello-My-Name-Is_7   \n",
       "124204                       Hello-My-Name-Is_26   \n",
       "124205                        Hello-My-Name-Is_5   \n",
       "124206                        Hello-My-Name-Is_2   \n",
       "124207                       Hello-My-Name-Is_28   \n",
       "\n",
       "                               template_name  \\\n",
       "0       i-dont-want-to-play-with-you-anymore   \n",
       "1       i-dont-want-to-play-with-you-anymore   \n",
       "2       i-dont-want-to-play-with-you-anymore   \n",
       "3       i-dont-want-to-play-with-you-anymore   \n",
       "4       i-dont-want-to-play-with-you-anymore   \n",
       "...                                      ...   \n",
       "124203                      hello-my-name-is   \n",
       "124204                      hello-my-name-is   \n",
       "124205                      hello-my-name-is   \n",
       "124206                      hello-my-name-is   \n",
       "124207                      hello-my-name-is   \n",
       "\n",
       "                                                     path  \n",
       "0       /home/hsdslab/murgi/Memes2024/I-dont-want-to-p...  \n",
       "1       /home/hsdslab/murgi/Memes2024/I-dont-want-to-p...  \n",
       "2       /home/hsdslab/murgi/Memes2024/I-dont-want-to-p...  \n",
       "3       /home/hsdslab/murgi/Memes2024/I-dont-want-to-p...  \n",
       "4       /home/hsdslab/murgi/Memes2024/I-dont-want-to-p...  \n",
       "...                                                   ...  \n",
       "124203  /home/hsdslab/murgi/Memes2024/Hello-My-Name-Is...  \n",
       "124204  /home/hsdslab/murgi/Memes2024/Hello-My-Name-Is...  \n",
       "124205  /home/hsdslab/murgi/Memes2024/Hello-My-Name-Is...  \n",
       "124206  /home/hsdslab/murgi/Memes2024/Hello-My-Name-Is...  \n",
       "124207  /home/hsdslab/murgi/Memes2024/Hello-My-Name-Is...  \n",
       "\n",
       "[124208 rows x 3 columns]"
      ]
     },
     "execution_count": 3,
     "metadata": {},
     "output_type": "execute_result"
    }
   ],
   "source": [
    "from tqdm.notebook import tqdm\n",
    "import pandas as pd\n",
    "import os\n",
    "root_folder = r\"/home/hsdslab/murgi/Memes2024\"\n",
    "\n",
    "all_meme_entries = pd.DataFrame({'id': [],'template_name':[], 'path': []})\n",
    "\n",
    "for folder in tqdm(os.listdir(root_folder), total=len(os.listdir(root_folder)), disable=True):\n",
    "    template_name = os.path.basename(folder)\n",
    "    template_name = template_name.lower()\n",
    "    for file in os.listdir(os.path.join(root_folder, folder)):\n",
    "        path = os.path.join(root_folder,folder, file)\n",
    "        id = os.path.splitext(file)[0]\n",
    "        entry = {'id': id, 'template_name': template_name, 'path': path}\n",
    "        entry_df = pd.DataFrame(entry, index=[0])\n",
    "        all_meme_entries = pd.concat([all_meme_entries, entry_df])\n",
    "\n",
    "all_meme_entries.reset_index(drop=True, inplace=True)\n",
    "all_meme_entries"
   ]
  },
  {
   "cell_type": "markdown",
   "metadata": {},
   "source": [
    "Make sure the names in template_df match the names in all_meme_entries"
   ]
  },
  {
   "cell_type": "code",
   "execution_count": null,
   "metadata": {},
   "outputs": [],
   "source": [
    "template_df.loc[:, 'template_name'] = template_df['template_name'].str.lower()\n",
    "template_df"
   ]
  },
  {
   "cell_type": "code",
   "execution_count": null,
   "metadata": {},
   "outputs": [],
   "source": [
    "import numpy as np\n",
    "\n",
    "template_df['tags'] = template_df['tags'].replace('None', np.nan)"
   ]
  },
  {
   "cell_type": "code",
   "execution_count": null,
   "metadata": {},
   "outputs": [],
   "source": [
    "# get all the template_name values that are duplicated\n",
    "duplicated_template_names = template_df[template_df.duplicated('template_name')]['template_name'].values\n",
    "duplicated_template_names\n",
    "\n",
    "template_df[template_df['template_name'].isin(duplicated_template_names)].sort_values('template_name')"
   ]
  },
  {
   "cell_type": "markdown",
   "metadata": {},
   "source": [
    "If multiple entries are present for a single template in template_df, then we can merge their tags with the following functions:"
   ]
  },
  {
   "cell_type": "code",
   "execution_count": null,
   "metadata": {},
   "outputs": [],
   "source": [
    "import ast\n",
    "\n",
    "def merge_template_tags_different_names(df, template_names:list):\n",
    "    tags = []\n",
    "    for template_name in template_names:\n",
    "        temp_tags = df[df['template_name'] == template_name]['tags']\n",
    "        temp_tags = [ast.literal_eval(tag) for tag in temp_tags]\n",
    "        temp_tags = [item for sublist in temp_tags for item in sublist]\n",
    "        tags += temp_tags\n",
    "\n",
    "    for template_name in template_names:\n",
    "        df.loc[df['template_name'] == template_name, 'tags'] = str(tags)\n",
    "\n",
    "def merge_template_tags(df,template_name):\n",
    "    tags = df[df['template_name'] == template_name]['tags'].dropna()\n",
    "    tags = [ast.literal_eval(tag) for tag in tags]\n",
    "    tags = [item for sublist in tags for item in sublist]\n",
    "    df.loc[df['template_name'] == template_name, 'tags'] = str(tags)\n",
    "\n",
    "# duplicated_template_names = duplicated_template_names.template_name.unique()\n",
    "\n",
    "for template_name in duplicated_template_names:\n",
    "    merge_template_tags(template_df, template_name)\n"
   ]
  },
  {
   "cell_type": "code",
   "execution_count": null,
   "metadata": {},
   "outputs": [],
   "source": [
    "template_df[template_df['template_name'].isin(duplicated_template_names)].sort_values('template_name').head(6)"
   ]
  },
  {
   "cell_type": "code",
   "execution_count": null,
   "metadata": {},
   "outputs": [],
   "source": [
    "# rename hide-the-pain-harold-2 to hide-the-pain-harold\n",
    "template_df.loc[template_df['template_link'] == '/meme/Hide-the-Pain-Harold', 'template_name'] = 'hide-the-pain-harold-og'\n",
    "template_df.loc[template_df['template_link'] == '/meme/75105871/Hide-the-pain-harold', 'template_name'] = 'hide-the-pain-harold-thumbs-up'\n",
    "template_df.loc[template_df['template_link'] == '/meme/Waiting-Skeleton', 'template_name'] = 'waiting-skeleton-og'\n",
    "\n",
    "duplicated_template_names = template_df[template_df.duplicated('template_name')]['template_name'].values\n",
    "template_df[template_df['template_name'].isin(duplicated_template_names)].sort_values('template_name')\n"
   ]
  },
  {
   "cell_type": "markdown",
   "metadata": {},
   "source": [
    "Drop any duplicates from the list above"
   ]
  },
  {
   "cell_type": "code",
   "execution_count": null,
   "metadata": {},
   "outputs": [],
   "source": [
    "template_df.drop_duplicates(subset='template_name', keep='first', inplace=True)"
   ]
  },
  {
   "cell_type": "markdown",
   "metadata": {},
   "source": [
    "Delete template records left after empty folders are deleted"
   ]
  },
  {
   "cell_type": "code",
   "execution_count": null,
   "metadata": {},
   "outputs": [],
   "source": [
    "template_df[template_df['template_name'].str.contains('hide-the-')]"
   ]
  },
  {
   "cell_type": "code",
   "execution_count": null,
   "metadata": {},
   "outputs": [],
   "source": [
    "difference = list(set(template_df['template_name'].str.lower()) - set(all_meme_entries['template_name'].str.lower()))\n",
    "difference\n",
    "\n",
    "template_df = template_df[~template_df['template_name'].isin(difference)]\n",
    "template_df"
   ]
  },
  {
   "cell_type": "code",
   "execution_count": null,
   "metadata": {},
   "outputs": [],
   "source": [
    "assert len(all_meme_entries.template_name.unique()) == len(template_df.template_name.unique())"
   ]
  },
  {
   "cell_type": "markdown",
   "metadata": {},
   "source": [
    "Save progress"
   ]
  },
  {
   "cell_type": "code",
   "execution_count": 7,
   "metadata": {},
   "outputs": [],
   "source": [
    "template_df.to_parquet('../data/meme_template_links.parquet')\n",
    "all_meme_entries.to_parquet('../data/meme_entries.parquet')"
   ]
  },
  {
   "cell_type": "code",
   "execution_count": null,
   "metadata": {},
   "outputs": [],
   "source": [
    "!dagshub login\n",
    "\n",
    "import dagshub\n",
    "TOKEN = dagshub.auth.get_token()"
   ]
  },
  {
   "cell_type": "code",
   "execution_count": null,
   "metadata": {},
   "outputs": [],
   "source": [
    "USER_NAME = 'levente-murgas'\n",
    "REPO_NAME = 'meme-research-2024'\n"
   ]
  },
  {
   "cell_type": "markdown",
   "metadata": {},
   "source": [
    "## Download blank template images"
   ]
  },
  {
   "cell_type": "code",
   "execution_count": null,
   "metadata": {},
   "outputs": [],
   "source": [
    "from tqdm.notebook import tqdm\n",
    "import pandas as pd\n",
    "import os\n",
    "import requests\n",
    "from bs4 import BeautifulSoup\n",
    "\n",
    "template_df = pd.read_parquet('../data/meme_template_links.parquet')\n",
    "\n",
    "meme_template_dict = template_df.set_index('template_name')['template_link'].to_dict()\n",
    "meme_template_dict\n",
    "\n",
    "\n",
    "def download_blank_image(template_name: str, link: str, dest_folder='../data/test-folder'):\n",
    "    missing_imgs = []\n",
    "    # create destination folder if it does not exist\n",
    "    if not os.path.exists(dest_folder):\n",
    "        os.makedirs(dest_folder)\n",
    "    full_link = 'https://imgflip.com' + link\n",
    "    page = requests.get(full_link)\n",
    "    if page.status_code != 200:\n",
    "        raise Exception('Error:', page.status_code)\n",
    "    soup = BeautifulSoup(page.content, 'html.parser')\n",
    "    blank_img_div = soup.find('div', class_='meme-text-link')\n",
    "    \n",
    "    try:\n",
    "        blank_img_link = blank_img_div.find_next_sibling('img').get('src')\n",
    "        img_extension = blank_img_link.split('.')[-1]\n",
    "        if blank_img_link.startswith('/s/'):\n",
    "            img_data = requests.get('https://imgflip.com' + blank_img_link).content\n",
    "        else:\n",
    "            img_data = requests.get('https:' + blank_img_link).content\n",
    "        path = os.path.join(dest_folder, template_name + '.' +  img_extension)\n",
    "        with open(path, 'wb') as handler:\n",
    "            handler.write(img_data)\n",
    "    except:\n",
    "        print('No blank image found for:', template_name)\n",
    "        missing_imgs.append(template_name)\n",
    "\n",
    "    return missing_imgs\n",
    "\n",
    "missing_imgs = []\n",
    "for template_name, link in tqdm(meme_template_dict.items(), total=len(meme_template_dict)):\n",
    "    missing = download_blank_image(template_name, link, '../data/blank_images')\n",
    "    missing_imgs += missing\n",
    "\n",
    "print(missing_imgs)"
   ]
  },
  {
   "cell_type": "code",
   "execution_count": null,
   "metadata": {},
   "outputs": [],
   "source": [
    "blank_images = os.listdir('../data/blank_images')\n",
    "# create full path not relative\n",
    "blank_images = [os.path.join('../data/blank_images', img) for img in blank_images]\n",
    "# create full path not relative\n",
    "blank_images = [os.path.abspath(img) for img in blank_images]\n",
    "\n",
    "blank_images_templates = [os.path.basename(img).split('.')[0] for img in blank_images]\n",
    "\n",
    "# create df\n",
    "blank_images_df = pd.DataFrame({'template_name': blank_images_templates, 'path': blank_images})\n",
    "blank_images_df"
   ]
  },
  {
   "cell_type": "code",
   "execution_count": null,
   "metadata": {},
   "outputs": [],
   "source": [
    "template_df = template_df.merge(blank_images_df, on='template_name', how='left')\n",
    "template_df.path.isna().sum()"
   ]
  },
  {
   "cell_type": "code",
   "execution_count": null,
   "metadata": {},
   "outputs": [],
   "source": [
    "template_df.to_parquet('../data/meme_template_links.parquet')"
   ]
  },
  {
   "cell_type": "code",
   "execution_count": null,
   "metadata": {},
   "outputs": [],
   "source": [
    "import pandas as pd\n",
    "def download_captions_chart(template_name: str, link: str, dest_folder='../data/test-folder'):\n",
    "    missing_memes = []\n",
    "    # create destination folder if it does not exist\n",
    "    if not os.path.exists(dest_folder):\n",
    "        os.makedirs(dest_folder)\n",
    "    full_link = 'https://imgflip.com' + link\n",
    "    page = requests.get(full_link)\n",
    "    if page.status_code != 200:\n",
    "        raise Exception('Error:', page.status_code)\n",
    "    soup = BeautifulSoup(page.content, 'html.parser')\n",
    "\n",
    "    captions_chart = soup.find('div', class_='meme-captions-chart')\n",
    "    table = captions_chart.find('table')\n",
    "# Create an empty dataframe to store the extracted data\n",
    "extracted_data = pd.DataFrame(columns=['Date', 'Number'])\n",
    "\n",
    "# Iterate over the rows of the existing dataframe\n",
    "for index, row in template_df.iterrows():\n",
    "    # Extract the date and number from each row\n",
    "    date = row['date']\n",
    "    number = row['number']\n",
    "    \n",
    "    # Create a new row in the extracted_data dataframe\n",
    "    extracted_data.loc[index] = [date, number]\n",
    "\n",
    "# Print the extracted data\n",
    "print(extracted_data)\n",
    "    "
   ]
  },
  {
   "cell_type": "code",
   "execution_count": null,
   "metadata": {},
   "outputs": [],
   "source": []
  }
 ],
 "metadata": {
  "kernelspec": {
   "display_name": "condavenv39",
   "language": "python",
   "name": "python3"
  },
  "language_info": {
   "codemirror_mode": {
    "name": "ipython",
    "version": 3
   },
   "file_extension": ".py",
   "mimetype": "text/x-python",
   "name": "python",
   "nbconvert_exporter": "python",
   "pygments_lexer": "ipython3",
   "version": "3.11.5"
  }
 },
 "nbformat": 4,
 "nbformat_minor": 2
}
