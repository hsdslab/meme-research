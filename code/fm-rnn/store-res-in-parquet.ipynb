{
 "cells": [
  {
   "cell_type": "code",
   "execution_count": 7,
   "metadata": {},
   "outputs": [],
   "source": [
    "import os\n",
    "from tqdm.notebook  import tqdm\n",
    "from collections import defaultdict\n",
    "import pandas as pd"
   ]
  },
  {
   "cell_type": "code",
   "execution_count": 8,
   "metadata": {},
   "outputs": [],
   "source": [
    "result_folder = r'D:\\flann-orb-distances-330sm'"
   ]
  },
  {
   "cell_type": "code",
   "execution_count": 9,
   "metadata": {},
   "outputs": [
    {
     "data": {
      "text/plain": [
       "['D:\\\\flann-orb-distances-330sm\\\\149781103607370_added-7706.txt',\n",
       " 'D:\\\\flann-orb-distances-330sm\\\\2018_12-10375.txt']"
      ]
     },
     "execution_count": 9,
     "metadata": {},
     "output_type": "execute_result"
    }
   ],
   "source": [
    "txt_files = os.listdir(result_folder)\n",
    "txt_files = [os.path.join(os.path.abspath(result_folder), f) for f in txt_files]\n",
    "txt_files[:2]"
   ]
  },
  {
   "cell_type": "code",
   "execution_count": 10,
   "metadata": {},
   "outputs": [],
   "source": [
    "if not os.path.exists(\"parquets-330\"):\n",
    "    os.makedirs(\"parquets-330\")"
   ]
  },
  {
   "cell_type": "code",
   "execution_count": 11,
   "metadata": {},
   "outputs": [
    {
     "data": {
      "application/vnd.jupyter.widget-view+json": {
       "model_id": "5dd1b52077a747fbb13c581dcf72723f",
       "version_major": 2,
       "version_minor": 0
      },
      "text/plain": [
       "  0%|          | 0/330 [00:00<?, ? file/s]"
      ]
     },
     "metadata": {},
     "output_type": "display_data"
    }
   ],
   "source": [
    "rows = defaultdict(dict)\n",
    "for i, file in enumerate(tqdm(txt_files, total=len(txt_files), unit=' file')):\n",
    "    meme_id = os.path.basename(os.path.splitext(file)[0])\n",
    "    distances = {}\n",
    "    with open(file, 'r') as f:\n",
    "        lines = f.readlines()\n",
    "        for line in lines:\n",
    "            line = line.strip().split('\\t')\n",
    "            dists = line[1].split(',')\n",
    "            dists = [int(float(d)) for d in dists]\n",
    "            dists.sort()\n",
    "            distances[line[0]] = dists[:50]\n",
    "    rows[meme_id] = distances\n",
    "    if i % 100 == 0 and i > 0:\n",
    "        # create a pandas pivoted dataframe where the values are the list of distances\n",
    "        df = pd.DataFrame(rows).T\n",
    "        df.to_parquet(f'./parquets-330/imgflip-test-distances-part-{i}.parquet', compression='gzip')\n",
    "        rows = defaultdict(dict)"
   ]
  },
  {
   "cell_type": "code",
   "execution_count": 12,
   "metadata": {},
   "outputs": [],
   "source": [
    "df = pd.DataFrame(rows).T\n",
    "df.to_parquet(f'./parquets-330/imgflip-test-distances-part-last.parquet', compression='gzip')"
   ]
  }
 ],
 "metadata": {
  "kernelspec": {
   "display_name": "meme-research",
   "language": "python",
   "name": "python3"
  },
  "language_info": {
   "codemirror_mode": {
    "name": "ipython",
    "version": 3
   },
   "file_extension": ".py",
   "mimetype": "text/x-python",
   "name": "python",
   "nbconvert_exporter": "python",
   "pygments_lexer": "ipython3",
   "version": "3.9.13"
  }
 },
 "nbformat": 4,
 "nbformat_minor": 2
}
